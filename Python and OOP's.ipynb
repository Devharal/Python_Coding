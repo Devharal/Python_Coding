{
 "cells": [
  {
   "cell_type": "code",
   "execution_count": 4,
   "id": "04a2a727-f719-40bd-be2c-3acb288e23fe",
   "metadata": {},
   "outputs": [
    {
     "name": "stdout",
     "output_type": "stream",
     "text": [
      "10\n"
     ]
    }
   ],
   "source": [
    "a=10  \n",
    "print(a)"
   ]
  },
  {
   "cell_type": "code",
   "execution_count": 2,
   "id": "29232366-f4cc-4ca0-9c03-0047b43628df",
   "metadata": {},
   "outputs": [
    {
     "data": {
      "text/plain": [
       "int"
      ]
     },
     "execution_count": 2,
     "metadata": {},
     "output_type": "execute_result"
    }
   ],
   "source": [
    "type(a)"
   ]
  },
  {
   "cell_type": "code",
   "execution_count": 5,
   "id": "87afa6b9-a5ec-4dc3-bad2-311a0414be5d",
   "metadata": {},
   "outputs": [
    {
     "data": {
      "text/plain": [
       "str"
      ]
     },
     "execution_count": 5,
     "metadata": {},
     "output_type": "execute_result"
    }
   ],
   "source": [
    "b= \"dev\"\n",
    "type(b)"
   ]
  },
  {
   "cell_type": "code",
   "execution_count": 7,
   "id": "562be179-8203-4776-998e-879ca112bec3",
   "metadata": {},
   "outputs": [
    {
     "data": {
      "text/plain": [
       "123"
      ]
     },
     "execution_count": 7,
     "metadata": {},
     "output_type": "execute_result"
    }
   ],
   "source": [
    "int(123)"
   ]
  },
  {
   "cell_type": "code",
   "execution_count": 9,
   "id": "03c70316-e4e8-426c-9d2f-11cb9a1c3290",
   "metadata": {},
   "outputs": [
    {
     "name": "stdout",
     "output_type": "stream",
     "text": [
      "hello world\n"
     ]
    }
   ],
   "source": [
    "print(\"hello world\")"
   ]
  },
  {
   "cell_type": "code",
   "execution_count": 11,
   "id": "e271fed1-c71c-4bb4-b724-b4ccbbad8299",
   "metadata": {},
   "outputs": [
    {
     "name": "stdout",
     "output_type": "stream",
     "text": [
      "my age is: 20\n"
     ]
    }
   ],
   "source": [
    "age =20\n",
    "print(f\"my age is: {age}\")   #f-string method calling variable inside string"
   ]
  },
  {
   "cell_type": "code",
   "execution_count": 13,
   "id": "d8377f86-c116-42e3-8542-7ef87acb5051",
   "metadata": {},
   "outputs": [
    {
     "name": "stdout",
     "output_type": "stream",
     "text": [
      "My name is dev and age is 32\n"
     ]
    }
   ],
   "source": [
    "#index start from 0 in python and 1 in R\n",
    "#format String in it order matters according to also called dot format\n",
    "name=\"dev\"\n",
    "age=32\n",
    "print(\"My name is {} and age is {}\".format(name,age))"
   ]
  },
  {
   "cell_type": "code",
   "execution_count": 14,
   "id": "0bbbbbaf-5a68-41ce-86fb-2fea64c0613b",
   "metadata": {},
   "outputs": [
    {
     "name": "stdout",
     "output_type": "stream",
     "text": [
      "my age is Dev and my name is 20 and completed degree in btech\n"
     ]
    }
   ],
   "source": [
    "name = \"Dev\"\n",
    "age =20\n",
    "degree =\"btech\"\n",
    "\n",
    "print(\"my age is {} and my name is {} and completed degree in {}\".format(name,age,degree))"
   ]
  },
  {
   "cell_type": "code",
   "execution_count": 15,
   "id": "009d945c-77d4-4d8f-ab43-54d9348f7d57",
   "metadata": {},
   "outputs": [],
   "source": [
    "## Control Flow\n",
    "# decision making\n"
   ]
  },
  {
   "cell_type": "code",
   "execution_count": 1,
   "id": "1468c039-3a81-4422-99e9-f85a74fbc9b7",
   "metadata": {},
   "outputs": [
    {
     "name": "stdout",
     "output_type": "stream",
     "text": [
      "You can vote\n"
     ]
    }
   ],
   "source": [
    "#if statement ==,>=,<=\n",
    "age=20\n",
    "if age>=18:\n",
    "    print(\"You can vote\")\n",
    "else:\n",
    "    print(\"Hii\")"
   ]
  },
  {
   "cell_type": "code",
   "execution_count": null,
   "id": "2c5c5673-2a12-4386-a2a1-2e545cca07c1",
   "metadata": {},
   "outputs": [],
   "source": [
    "age= int(input(\"Enter your age\"))"
   ]
  },
  {
   "cell_type": "code",
   "execution_count": 3,
   "id": "16ec432b-5bfb-4f59-8a07-ae1d4deb44e6",
   "metadata": {},
   "outputs": [
    {
     "data": {
      "text/plain": [
       "20"
      ]
     },
     "execution_count": 3,
     "metadata": {},
     "output_type": "execute_result"
    }
   ],
   "source": [
    "age"
   ]
  },
  {
   "cell_type": "code",
   "execution_count": 2,
   "id": "9e6ba3ac-46fa-4028-9b19-fab4d911acd3",
   "metadata": {},
   "outputs": [
    {
     "name": "stdout",
     "output_type": "stream",
     "text": [
      "Enter your age 55\n"
     ]
    },
    {
     "name": "stdout",
     "output_type": "stream",
     "text": [
      "Mahatarya\n"
     ]
    }
   ],
   "source": [
    "age= int(input(\"Enter your age\"))\n",
    "if age>=18 and age<=45:\n",
    "    print(\"You are young\")\n",
    "else:\n",
    "    print(\"Mahatarya\")"
   ]
  },
  {
   "cell_type": "code",
   "execution_count": 3,
   "id": "bd10f08c-1ae5-4a1b-bdd0-fd8cb9debb24",
   "metadata": {},
   "outputs": [
    {
     "name": "stdout",
     "output_type": "stream",
     "text": [
      "Enter price please 1200\n"
     ]
    },
    {
     "name": "stdout",
     "output_type": "stream",
     "text": [
      "final price is 960.0\n"
     ]
    }
   ],
   "source": [
    "product_price=int(input(\"Enter price please\"))\n",
    "if product_price>1000:\n",
    "    print(\"final price is {}\".format(product_price*0.8))\n",
    "else:\n",
    "    print(\"final price is {}\".format(product_price*0.7))"
   ]
  },
  {
   "cell_type": "code",
   "execution_count": 4,
   "id": "084686f0-1a38-43b0-aa30-00598ee8cc91",
   "metadata": {},
   "outputs": [
    {
     "name": "stdout",
     "output_type": "stream",
     "text": [
      "Enter price please 2500\n"
     ]
    },
    {
     "name": "stdout",
     "output_type": "stream",
     "text": [
      "final price is 2000.0\n"
     ]
    }
   ],
   "source": [
    "# using if and elif is way to reduce time complexity as if we use if code will come out of block but for elif stays in loop of if\n",
    "product_price=int(input(\"Enter price please\"))\n",
    "if product_price>1000:\n",
    "    print(\"final price is {}\".format(product_price*0.8))\n",
    "elif product_price>=2000 and product_price<=3000:\n",
    "    print(f\"pice will be {product_price*0.6}\")\n",
    "else:\n",
    "    print(\"final price is {}\".format(product_price*0.7))"
   ]
  },
  {
   "cell_type": "code",
   "execution_count": 1,
   "id": "61013f04-2cc3-4b99-bbd9-dd0cb4d3d358",
   "metadata": {},
   "outputs": [
    {
     "name": "stdout",
     "output_type": "stream",
     "text": [
      "Enter numnber 45\n"
     ]
    },
    {
     "name": "stdout",
     "output_type": "stream",
     "text": [
      "value is less than 999\n"
     ]
    }
   ],
   "source": [
    "#single statement\n",
    "val=int(input(\"Enter numnber\"))\n",
    "if(val<=999):print(\"value is less than 999\")"
   ]
  },
  {
   "cell_type": "code",
   "execution_count": 10,
   "id": "1c0aa3a8-2b0a-4311-8802-5e8780cc8aff",
   "metadata": {},
   "outputs": [
    {
     "name": "stdout",
     "output_type": "stream",
     "text": [
      "61\n"
     ]
    }
   ],
   "source": [
    "#while loop\n",
    "r_age=60\n",
    "\n",
    "while r_age<=60:\n",
    "    r_age=r_age+1\n",
    "    print(r_age)"
   ]
  },
  {
   "cell_type": "code",
   "execution_count": 13,
   "id": "61b106a6-0477-4096-b0c8-40327ffeb496",
   "metadata": {},
   "outputs": [
    {
     "name": "stdout",
     "output_type": "stream",
     "text": [
      "1000\n",
      "900\n",
      "800\n",
      "700\n",
      "600\n",
      "500\n",
      "400\n",
      "300\n",
      "200\n",
      "100\n"
     ]
    }
   ],
   "source": [
    "# ATM machine with 1000rs\n",
    "total_cash=1000\n",
    "while total_cash!=0:\n",
    "    print(total_cash)\n",
    "    total_cash=total_cash-100"
   ]
  },
  {
   "cell_type": "code",
   "execution_count": 14,
   "id": "2e6e8b61-e956-48de-a64f-972fda3bd635",
   "metadata": {},
   "outputs": [
    {
     "data": {
      "text/plain": [
       "list"
      ]
     },
     "execution_count": 14,
     "metadata": {},
     "output_type": "execute_result"
    }
   ],
   "source": [
    "#for loop for iteration inside data structures\n",
    "lst=[\"Dev\",1,2,3,4,\"banana\"]\n",
    "type(lst)"
   ]
  },
  {
   "cell_type": "code",
   "execution_count": 17,
   "id": "da74f2d8-6b8f-4e3f-812b-8f0580b83c9d",
   "metadata": {},
   "outputs": [
    {
     "data": {
      "text/plain": [
       "'banana'"
      ]
     },
     "execution_count": 17,
     "metadata": {},
     "output_type": "execute_result"
    }
   ],
   "source": [
    "lst[5]"
   ]
  },
  {
   "cell_type": "code",
   "execution_count": 28,
   "id": "19e5b1d5-b5eb-4890-8883-5b5886757f8f",
   "metadata": {},
   "outputs": [
    {
     "name": "stdout",
     "output_type": "stream",
     "text": [
      "Dev 1 2 3 4 banana "
     ]
    }
   ],
   "source": [
    "for x in lst:    ##iterate through elements\n",
    "    print(x, end=' ')"
   ]
  },
  {
   "cell_type": "code",
   "execution_count": 24,
   "id": "7d0c2ad1-b463-488c-9518-692580e18186",
   "metadata": {},
   "outputs": [
    {
     "name": "stdout",
     "output_type": "stream",
     "text": [
      "0 1 2 3 4 5 6 7 8 9 "
     ]
    }
   ],
   "source": [
    "for i in range(10):\n",
    "    print(i, end=' ')"
   ]
  },
  {
   "cell_type": "code",
   "execution_count": 26,
   "id": "310fcbc2-aa64-4a02-8dc5-44d1e9382062",
   "metadata": {},
   "outputs": [
    {
     "name": "stdout",
     "output_type": "stream",
     "text": [
      "m a n g o "
     ]
    }
   ],
   "source": [
    "fruit='mango'\n",
    "for x in fruit:\n",
    "    print(x,end=' ')"
   ]
  },
  {
   "cell_type": "code",
   "execution_count": 27,
   "id": "e4133414-9736-4438-beb8-9fcb173337de",
   "metadata": {},
   "outputs": [
    {
     "data": {
      "text/plain": [
       "str"
      ]
     },
     "execution_count": 27,
     "metadata": {},
     "output_type": "execute_result"
    }
   ],
   "source": [
    "type(fruit)"
   ]
  },
  {
   "cell_type": "code",
   "execution_count": 32,
   "id": "2d2940e0-0238-49e0-8bae-9b5f621a0815",
   "metadata": {},
   "outputs": [
    {
     "name": "stdout",
     "output_type": "stream",
     "text": [
      "/ \n",
      "/ / \n",
      "/ / / \n",
      "/ / / / \n",
      "/ / / / / \n",
      "/ / / / / / \n",
      "/ / / / / / / \n"
     ]
    }
   ],
   "source": [
    "## Nested Loops\n",
    "n=7\n",
    "for i in range(0,n):\n",
    "    for j in range(0,i+1):\n",
    "        print(\"/\",end=\" \")\n",
    "    print(\"\\r\")"
   ]
  },
  {
   "cell_type": "code",
   "execution_count": null,
   "id": "47a3a2eb-823d-44c3-bf85-85ce3481d1d8",
   "metadata": {},
   "outputs": [],
   "source": [
    "## Loop Controls\n",
    "# Break and Continue\n",
    "\n",
    "#break will stop loop and continue will skip that part"
   ]
  },
  {
   "cell_type": "markdown",
   "id": "a41fc572-8684-4871-a604-93b35f3710a5",
   "metadata": {},
   "source": [
    "## Lecture -> 2\n",
    "#### 31st Jan"
   ]
  },
  {
   "cell_type": "code",
   "execution_count": 35,
   "id": "ecea8ed7-2d91-4176-8145-7526af867242",
   "metadata": {},
   "outputs": [
    {
     "data": {
      "text/plain": [
       "False"
      ]
     },
     "execution_count": 35,
     "metadata": {},
     "output_type": "execute_result"
    }
   ],
   "source": [
    "#Logical Operator and/or/not similar to gates \n",
    "not int(bool(1))\n"
   ]
  },
  {
   "cell_type": "code",
   "execution_count": 37,
   "id": "917272ff-837d-4bf1-ad37-ec75a25b0f50",
   "metadata": {},
   "outputs": [
    {
     "data": {
      "text/plain": [
       "True"
      ]
     },
     "execution_count": 37,
     "metadata": {},
     "output_type": "execute_result"
    }
   ],
   "source": [
    "bool(1)"
   ]
  },
  {
   "cell_type": "code",
   "execution_count": 39,
   "id": "92db002e-a93f-4dfb-be67-47f165df1e8d",
   "metadata": {},
   "outputs": [
    {
     "name": "stdout",
     "output_type": "stream",
     "text": [
      "139841188408688\n"
     ]
    }
   ],
   "source": [
    "str1=\"Dev\"   # string are immutable but list are mutable and replace in string\n",
    "print(id(str1))"
   ]
  },
  {
   "cell_type": "code",
   "execution_count": null,
   "id": "3795474b-1a9b-4889-9e4d-78935d24eecd",
   "metadata": {},
   "outputs": [],
   "source": [
    "#operations= Comparision \n",
    "#Arthemethic operation"
   ]
  },
  {
   "cell_type": "code",
   "execution_count": null,
   "id": "e6f8b407-3f59-4ead-889a-9bbf33ab4cae",
   "metadata": {},
   "outputs": [],
   "source": [
    "#Bitwise Operator"
   ]
  },
  {
   "cell_type": "code",
   "execution_count": null,
   "id": "62904331-be37-48a0-8733-a4f6b367ee2c",
   "metadata": {},
   "outputs": [],
   "source": [
    "## Data Structure \n",
    "## String"
   ]
  },
  {
   "cell_type": "code",
   "execution_count": 2,
   "id": "c63b1127-7316-4d05-9d49-d470102c5582",
   "metadata": {},
   "outputs": [
    {
     "data": {
      "text/plain": [
       "'W'"
      ]
     },
     "execution_count": 2,
     "metadata": {},
     "output_type": "execute_result"
    }
   ],
   "source": [
    "str1=\"Welcome Dev\"\n",
    "type(str1)\n",
    "str1[0]"
   ]
  },
  {
   "cell_type": "code",
   "execution_count": 3,
   "id": "d538f620-ce1a-47f3-b1b0-0b07048bbc2e",
   "metadata": {},
   "outputs": [],
   "source": [
    "str1=\"Kirsh\"  #complete strg can be replaced"
   ]
  },
  {
   "cell_type": "code",
   "execution_count": 2,
   "id": "17b27ef4-72e8-4d03-9410-422b10399615",
   "metadata": {},
   "outputs": [
    {
     "data": {
      "text/plain": [
       "'eolW'"
      ]
     },
     "execution_count": 2,
     "metadata": {},
     "output_type": "execute_result"
    }
   ],
   "source": [
    "str2=\"Welcome to IIT Mandi\"\n",
    "str2[6::-2]"
   ]
  },
  {
   "cell_type": "code",
   "execution_count": 15,
   "id": "4cb51eee-08dd-4506-b26f-50777e0c8d1e",
   "metadata": {},
   "outputs": [
    {
     "data": {
      "text/plain": [
       "-1"
      ]
     },
     "execution_count": 15,
     "metadata": {},
     "output_type": "execute_result"
    }
   ],
   "source": [
    "#find function\n",
    "str2.find(\"z\")"
   ]
  },
  {
   "cell_type": "code",
   "execution_count": 21,
   "id": "2fa820ce-9218-40d6-91fe-0e8c02bf2567",
   "metadata": {},
   "outputs": [
    {
     "data": {
      "text/plain": [
       "1"
      ]
     },
     "execution_count": 21,
     "metadata": {},
     "output_type": "execute_result"
    }
   ],
   "source": [
    "str2.count(\"a\",2,100)"
   ]
  },
  {
   "cell_type": "code",
   "execution_count": 3,
   "id": "1c5e70e2-7e96-4fd1-8b36-4023cee55325",
   "metadata": {},
   "outputs": [
    {
     "data": {
      "text/plain": [
       "['Welcome to IIT ', 'andi']"
      ]
     },
     "execution_count": 3,
     "metadata": {},
     "output_type": "execute_result"
    }
   ],
   "source": [
    "str2.split('M')"
   ]
  },
  {
   "cell_type": "code",
   "execution_count": 5,
   "id": "0d195eaf-5a01-47db-afdf-cd91afdebb10",
   "metadata": {},
   "outputs": [
    {
     "data": {
      "text/plain": [
       "('Welcome to ', 'I', 'IT Mandi')"
      ]
     },
     "execution_count": 5,
     "metadata": {},
     "output_type": "execute_result"
    }
   ],
   "source": [
    "str2.partition('I')"
   ]
  },
  {
   "cell_type": "code",
   "execution_count": 6,
   "id": "ba24a6ee-b462-4b85-ae2b-a22d93c0a8c8",
   "metadata": {},
   "outputs": [
    {
     "data": {
      "text/plain": [
       "'WELCOME TO IIT MANDI'"
      ]
     },
     "execution_count": 6,
     "metadata": {},
     "output_type": "execute_result"
    }
   ],
   "source": [
    "str2.upper()"
   ]
  },
  {
   "cell_type": "code",
   "execution_count": 7,
   "id": "eb2469a6-ffc8-4e00-a861-ec2caf745ce9",
   "metadata": {},
   "outputs": [
    {
     "data": {
      "text/plain": [
       "'welcome to iit mandi'"
      ]
     },
     "execution_count": 7,
     "metadata": {},
     "output_type": "execute_result"
    }
   ],
   "source": [
    "str2.lower()"
   ]
  },
  {
   "cell_type": "code",
   "execution_count": 8,
   "id": "3ee954e1-c90e-4fb8-a9c4-d99567aab855",
   "metadata": {},
   "outputs": [
    {
     "data": {
      "text/plain": [
       "'wELCOME TO iit mANDI'"
      ]
     },
     "execution_count": 8,
     "metadata": {},
     "output_type": "execute_result"
    }
   ],
   "source": [
    "str2.swapcase()"
   ]
  },
  {
   "cell_type": "code",
   "execution_count": 9,
   "id": "5b9949dc-a0af-497f-aad6-3f50cf8bb18e",
   "metadata": {},
   "outputs": [
    {
     "data": {
      "text/plain": [
       "'Welcome To Iit Mandi'"
      ]
     },
     "execution_count": 9,
     "metadata": {},
     "output_type": "execute_result"
    }
   ],
   "source": [
    "str2.title()"
   ]
  },
  {
   "cell_type": "code",
   "execution_count": 10,
   "id": "1cb61752-582b-4983-a1e1-6c91c6745e29",
   "metadata": {},
   "outputs": [
    {
     "data": {
      "text/plain": [
       "'O'"
      ]
     },
     "execution_count": 10,
     "metadata": {},
     "output_type": "execute_result"
    }
   ],
   "source": [
    "str2[4].upper()"
   ]
  },
  {
   "cell_type": "code",
   "execution_count": null,
   "id": "628ae0ce-f058-424f-ae3a-1d541818a818",
   "metadata": {},
   "outputs": [],
   "source": [
    "size= int(input(\"Enter triangle length\"))\n",
    "for i in range(size):\n",
    "    for j in range(size-i):\n",
    "        print(\"\",end=\" \")\n",
    "    for k in range(i+1):\n",
    "        print(\"*\",end=\"\")\n",
    "    for m in range(k-1):\n",
    "        print(\"*\",end=\"\")\n",
    "    print()"
   ]
  },
  {
   "cell_type": "markdown",
   "id": "626d4601-ec46-4d9e-a729-1ba2f9df3f26",
   "metadata": {},
   "source": [
    "## Lecture -> 3\n",
    "#### 1 Feb"
   ]
  },
  {
   "cell_type": "code",
   "execution_count": 18,
   "id": "0d3bdb63-b30c-4d1e-bc75-eadd6d89dbb4",
   "metadata": {},
   "outputs": [
    {
     "data": {
      "text/plain": [
       "'Welcome to iit mandi'"
      ]
     },
     "execution_count": 18,
     "metadata": {},
     "output_type": "execute_result"
    }
   ],
   "source": [
    "str2.capitalize()"
   ]
  },
  {
   "cell_type": "code",
   "execution_count": 19,
   "id": "6e028e19-be33-41b0-978e-74b95a90a89a",
   "metadata": {},
   "outputs": [
    {
     "data": {
      "text/plain": [
       "'idnaM TII ot emocleW'"
      ]
     },
     "execution_count": 19,
     "metadata": {},
     "output_type": "execute_result"
    }
   ],
   "source": [
    "##Reversing a String\n",
    "str2[::-1]"
   ]
  },
  {
   "cell_type": "code",
   "execution_count": 21,
   "id": "c2622e67-0e04-4c03-a2c7-8a4a2412f012",
   "metadata": {},
   "outputs": [
    {
     "data": {
      "text/plain": [
       "'i d n a M   T I I   o t   e m o c l e W'"
      ]
     },
     "execution_count": 21,
     "metadata": {},
     "output_type": "execute_result"
    }
   ],
   "source": [
    "' '.join(reversed(str2))"
   ]
  },
  {
   "cell_type": "code",
   "execution_count": 27,
   "id": "d1d73077-bfb4-4e32-967f-4dd248b77066",
   "metadata": {},
   "outputs": [
    {
     "data": {
      "text/plain": [
       "'W e l c o m e   t o   I I T   M a n d i'"
      ]
     },
     "execution_count": 27,
     "metadata": {},
     "output_type": "execute_result"
    }
   ],
   "source": [
    "\" \".join(str2)"
   ]
  },
  {
   "cell_type": "code",
   "execution_count": 28,
   "id": "4d0b1985-af34-4c94-a7a6-c16d602d0228",
   "metadata": {},
   "outputs": [
    {
     "data": {
      "text/plain": [
       "'Welcome to IIT Mandi'"
      ]
     },
     "execution_count": 28,
     "metadata": {},
     "output_type": "execute_result"
    }
   ],
   "source": [
    "str2.strip()"
   ]
  },
  {
   "cell_type": "code",
   "execution_count": 29,
   "id": "388cc30d-f92d-49b4-b9cf-6c9655e37ff7",
   "metadata": {},
   "outputs": [
    {
     "data": {
      "text/plain": [
       "'Welcome to IIT Mandi'"
      ]
     },
     "execution_count": 29,
     "metadata": {},
     "output_type": "execute_result"
    }
   ],
   "source": [
    "str2.lstrip()"
   ]
  },
  {
   "cell_type": "code",
   "execution_count": 31,
   "id": "6adb0d4f-9051-4d19-89b0-40302374b303",
   "metadata": {},
   "outputs": [
    {
     "data": {
      "text/plain": [
       "'Welcome from IIT Mandi'"
      ]
     },
     "execution_count": 31,
     "metadata": {},
     "output_type": "execute_result"
    }
   ],
   "source": [
    "str2.replace(\"to\" ,\"from\")   \n",
    "# makes new string/copy \n",
    "##here we are not changing string we are replacing it"
   ]
  },
  {
   "cell_type": "code",
   "execution_count": 1,
   "id": "ecf957b3-9350-4152-a451-0db0eee7d90f",
   "metadata": {},
   "outputs": [],
   "source": [
    "str3=\"Welcome to pwskills welcome to dat cince Masters\"\n"
   ]
  },
  {
   "cell_type": "code",
   "execution_count": 33,
   "id": "57132ef2-5c99-4a5b-b233-2b29118d7c7e",
   "metadata": {},
   "outputs": [
    {
     "data": {
      "text/plain": [
       "'Welcome to pwskills welcome to Data science Masters'"
      ]
     },
     "execution_count": 33,
     "metadata": {},
     "output_type": "execute_result"
    }
   ],
   "source": [
    "str3.replace(\"dat\",\"Data\").replace(\"cince\",\"science\")"
   ]
  },
  {
   "cell_type": "code",
   "execution_count": 35,
   "id": "2dfef992-325a-4f1d-905e-9253b8b2aed1",
   "metadata": {},
   "outputs": [
    {
     "data": {
      "text/plain": [
       "True"
      ]
     },
     "execution_count": 35,
     "metadata": {},
     "output_type": "execute_result"
    }
   ],
   "source": [
    "str2.endswith('i')"
   ]
  },
  {
   "cell_type": "code",
   "execution_count": 36,
   "id": "9502a89d-8fc3-4e8d-8161-ac540b8d8ca3",
   "metadata": {},
   "outputs": [
    {
     "data": {
      "text/plain": [
       "False"
      ]
     },
     "execution_count": 36,
     "metadata": {},
     "output_type": "execute_result"
    }
   ],
   "source": [
    "str2.startswith('s')"
   ]
  },
  {
   "cell_type": "code",
   "execution_count": 37,
   "id": "9c6b5320-d9e1-489a-986a-178cad3323c1",
   "metadata": {},
   "outputs": [
    {
     "data": {
      "text/plain": [
       "True"
      ]
     },
     "execution_count": 37,
     "metadata": {},
     "output_type": "execute_result"
    }
   ],
   "source": [
    "a='abcd'\n",
    "a.isalnum()"
   ]
  },
  {
   "cell_type": "code",
   "execution_count": 41,
   "id": "7d8b85e9-79db-4976-bd2f-8875a214fedb",
   "metadata": {},
   "outputs": [
    {
     "name": "stdout",
     "output_type": "stream",
     "text": [
      "l\n",
      "a\n",
      "r\n",
      "a\n",
      "H\n",
      "v\n",
      "e\n",
      "D\n"
     ]
    }
   ],
   "source": [
    "str4='DevHaral'\n",
    "ch=len(str4)\n",
    "while ch>0:\n",
    "    print(str4[ch-1])\n",
    "    ch=ch-1"
   ]
  },
  {
   "cell_type": "markdown",
   "id": "fb048bee-0a0b-42a2-b004-c37842481a08",
   "metadata": {},
   "source": [
    "## List"
   ]
  },
  {
   "cell_type": "code",
   "execution_count": 42,
   "id": "5477733c-031e-4c69-9af4-0c98c4f17c2f",
   "metadata": {},
   "outputs": [
    {
     "data": {
      "text/plain": [
       "list"
      ]
     },
     "execution_count": 42,
     "metadata": {},
     "output_type": "execute_result"
    }
   ],
   "source": [
    "type([])"
   ]
  },
  {
   "cell_type": "code",
   "execution_count": 43,
   "id": "4d85a214-6b29-4fc0-89ec-edcf9cc76ebe",
   "metadata": {},
   "outputs": [
    {
     "data": {
      "text/plain": [
       "['Krish', 'Naik', 'Pwskills', 32]"
      ]
     },
     "execution_count": 43,
     "metadata": {},
     "output_type": "execute_result"
    }
   ],
   "source": [
    "[\"Krish\",\"Naik\",\"Pwskills\",32]"
   ]
  },
  {
   "cell_type": "code",
   "execution_count": 44,
   "id": "83777be6-bee3-44cb-be12-13216a3f9c9a",
   "metadata": {},
   "outputs": [
    {
     "data": {
      "text/plain": [
       "[1, 2, 3, 4, 5]"
      ]
     },
     "execution_count": 44,
     "metadata": {},
     "output_type": "execute_result"
    }
   ],
   "source": [
    "list([1,2,3,4,5])"
   ]
  },
  {
   "cell_type": "code",
   "execution_count": 48,
   "id": "2dfa4fbe-6846-45c3-94ad-77ab322f90ae",
   "metadata": {},
   "outputs": [
    {
     "data": {
      "text/plain": [
       "['W',\n",
       " 'e',\n",
       " 'l',\n",
       " 'c',\n",
       " 'o',\n",
       " 'm',\n",
       " 'e',\n",
       " ' ',\n",
       " 't',\n",
       " 'o',\n",
       " ' ',\n",
       " 'I',\n",
       " 'I',\n",
       " 'T',\n",
       " ' ',\n",
       " 'M',\n",
       " 'a',\n",
       " 'n',\n",
       " 'd',\n",
       " 'i']"
      ]
     },
     "execution_count": 48,
     "metadata": {},
     "output_type": "execute_result"
    }
   ],
   "source": [
    "list(str2)"
   ]
  },
  {
   "cell_type": "markdown",
   "id": "a4c4becd-40df-418a-9435-6f0f517ce237",
   "metadata": {},
   "source": [
    "## Nested List"
   ]
  },
  {
   "cell_type": "code",
   "execution_count": 2,
   "id": "ea243f20-fe93-4ca3-8dd0-544e5c4164e2",
   "metadata": {},
   "outputs": [],
   "source": [
    "# Let's make three lists\n",
    "lst_1=[1,2,3]\n",
    "lst_2=[4,5,6]\n",
    "lst_3=[7,8,9]\n",
    "\n",
    "# Make a list of lists to form a matrix\n",
    "matrix = [lst_1,lst_2,lst_3]"
   ]
  },
  {
   "cell_type": "code",
   "execution_count": 3,
   "id": "2c9da1c8-beab-4620-ab43-e9bb4851da8f",
   "metadata": {},
   "outputs": [
    {
     "data": {
      "text/plain": [
       "[[1, 2, 3], [4, 5, 6], [7, 8, 9]]"
      ]
     },
     "execution_count": 3,
     "metadata": {},
     "output_type": "execute_result"
    }
   ],
   "source": [
    "matrix"
   ]
  },
  {
   "cell_type": "code",
   "execution_count": 6,
   "id": "18570285-3558-4364-b715-85f1d6f9b249",
   "metadata": {},
   "outputs": [
    {
     "data": {
      "text/plain": [
       "[5, 6]"
      ]
     },
     "execution_count": 6,
     "metadata": {},
     "output_type": "execute_result"
    }
   ],
   "source": [
    "matrix[1][1:]"
   ]
  },
  {
   "cell_type": "code",
   "execution_count": 10,
   "id": "b30a81d8-5897-4a3f-a947-c769606f8c7b",
   "metadata": {},
   "outputs": [
    {
     "data": {
      "text/plain": [
       "[0, 1, 2, 3, 4, 5, 6, 7, 8, 9, 10, 11, 12, 13, 14, 15, 16, 17, 18, 19]"
      ]
     },
     "execution_count": 10,
     "metadata": {},
     "output_type": "execute_result"
    }
   ],
   "source": [
    "##list Comprehesion\n",
    "\n",
    "[i for i in range(20)]"
   ]
  },
  {
   "cell_type": "code",
   "execution_count": 14,
   "id": "c0b89c61-da54-4694-a506-432f07178678",
   "metadata": {},
   "outputs": [
    {
     "data": {
      "text/plain": [
       "[0, '', 2, '', 4, '', 6, '', 8, '', 10, '', 12, '', 14, '', 16, '', 18, '']"
      ]
     },
     "execution_count": 14,
     "metadata": {},
     "output_type": "execute_result"
    }
   ],
   "source": [
    "[i if i%2==0 else \"\" for i in range(20)]"
   ]
  },
  {
   "cell_type": "code",
   "execution_count": 15,
   "id": "18d8b892-1434-41ec-bdef-65781af21e14",
   "metadata": {},
   "outputs": [
    {
     "name": "stdout",
     "output_type": "stream",
     "text": [
      "20\n"
     ]
    }
   ],
   "source": [
    "lst=[1,2,3,4,5,6,7,8]\n",
    "even=0\n",
    "for i in lst:\n",
    "    if i%2==0:\n",
    "        even+=i\n",
    "    else:\n",
    "        pass\n",
    "print(even)"
   ]
  },
  {
   "cell_type": "code",
   "execution_count": 19,
   "id": "ce872bd5-951a-41b9-af34-596e09067280",
   "metadata": {},
   "outputs": [
    {
     "data": {
      "text/plain": [
       "20"
      ]
     },
     "execution_count": 19,
     "metadata": {},
     "output_type": "execute_result"
    }
   ],
   "source": [
    "even=sum([num for num in lst if num%2==0])\n",
    "even"
   ]
  },
  {
   "cell_type": "code",
   "execution_count": 20,
   "id": "6a29ce7c-f3ed-4e40-a773-aa797a8b684a",
   "metadata": {},
   "outputs": [
    {
     "data": {
      "text/plain": [
       "[1, 4, 9, 16, 25, 36, 49, 64]"
      ]
     },
     "execution_count": 20,
     "metadata": {},
     "output_type": "execute_result"
    }
   ],
   "source": [
    "[num**2 for num in lst]"
   ]
  },
  {
   "cell_type": "markdown",
   "id": "5a1d9937-73cd-4180-b7b6-41b6f8592cb5",
   "metadata": {},
   "source": [
    "## Tuple"
   ]
  },
  {
   "cell_type": "code",
   "execution_count": 1,
   "id": "d7728fae-edce-466c-b096-ea1c0c0db53b",
   "metadata": {},
   "outputs": [],
   "source": [
    "t = ()"
   ]
  },
  {
   "cell_type": "code",
   "execution_count": 2,
   "id": "2e6a40cf-851b-410f-8ad0-f421dd7f7394",
   "metadata": {},
   "outputs": [
    {
     "data": {
      "text/plain": [
       "tuple"
      ]
     },
     "execution_count": 2,
     "metadata": {},
     "output_type": "execute_result"
    }
   ],
   "source": [
    "type(t)"
   ]
  },
  {
   "cell_type": "code",
   "execution_count": 3,
   "id": "6aa64f51-6c0e-46f9-b2d8-b3dd4d54c2bf",
   "metadata": {},
   "outputs": [],
   "source": [
    "t1=(1,23,12,123,3.3,\"dev\")"
   ]
  },
  {
   "cell_type": "code",
   "execution_count": 4,
   "id": "d178b9ed-adcd-4567-982d-84410fb207b0",
   "metadata": {},
   "outputs": [
    {
     "data": {
      "text/plain": [
       "tuple"
      ]
     },
     "execution_count": 4,
     "metadata": {},
     "output_type": "execute_result"
    }
   ],
   "source": [
    "type(t1)"
   ]
  },
  {
   "cell_type": "code",
   "execution_count": 5,
   "id": "72a882e3-ebc7-4ff7-b2d7-280f6ced018d",
   "metadata": {},
   "outputs": [
    {
     "data": {
      "text/plain": [
       "(1, 23, 12, 123, 3.3, 'dev')"
      ]
     },
     "execution_count": 5,
     "metadata": {},
     "output_type": "execute_result"
    }
   ],
   "source": [
    "## list=[] and tuple=() \n",
    "t1"
   ]
  },
  {
   "cell_type": "code",
   "execution_count": 8,
   "id": "2e6d71f4-dbba-4a5e-941d-aecaf69cb4cb",
   "metadata": {},
   "outputs": [
    {
     "data": {
      "text/plain": [
       "(1, 23, 12, 123)"
      ]
     },
     "execution_count": 8,
     "metadata": {},
     "output_type": "execute_result"
    }
   ],
   "source": [
    "t1[0:4]"
   ]
  },
  {
   "cell_type": "code",
   "execution_count": 10,
   "id": "0fe24db3-7b60-49eb-a6d4-87122a77ec83",
   "metadata": {},
   "outputs": [],
   "source": [
    "t1=t1[::-1]"
   ]
  },
  {
   "cell_type": "code",
   "execution_count": 11,
   "id": "da4d9017-c72f-4774-bd12-e57a396aa71c",
   "metadata": {},
   "outputs": [
    {
     "data": {
      "text/plain": [
       "('dev', 3.3, 123, 12, 23, 1)"
      ]
     },
     "execution_count": 11,
     "metadata": {},
     "output_type": "execute_result"
    }
   ],
   "source": [
    "t1"
   ]
  },
  {
   "cell_type": "code",
   "execution_count": 13,
   "id": "a2fae8ed-6c36-464b-a1f9-989f4bf4ee4c",
   "metadata": {},
   "outputs": [
    {
     "data": {
      "text/plain": [
       "('dev', 3.3, 123, 12)"
      ]
     },
     "execution_count": 13,
     "metadata": {},
     "output_type": "execute_result"
    }
   ],
   "source": [
    "t1[0:4]"
   ]
  },
  {
   "cell_type": "code",
   "execution_count": 14,
   "id": "5693853b-0f50-4a43-8bff-a42523731e3b",
   "metadata": {},
   "outputs": [
    {
     "data": {
      "text/plain": [
       "(1, 23, 12, 123, 3.3, 'dev')"
      ]
     },
     "execution_count": 14,
     "metadata": {},
     "output_type": "execute_result"
    }
   ],
   "source": [
    "t1[::-1]"
   ]
  },
  {
   "cell_type": "code",
   "execution_count": 20,
   "id": "e76ea823-a13d-4e28-8ea2-ddd21e4038b1",
   "metadata": {},
   "outputs": [
    {
     "data": {
      "text/plain": [
       "1"
      ]
     },
     "execution_count": 20,
     "metadata": {},
     "output_type": "execute_result"
    }
   ],
   "source": [
    "t1.count(23)"
   ]
  },
  {
   "cell_type": "code",
   "execution_count": 23,
   "id": "e2062c03-b96b-4fe5-b80b-ad53ebeffe93",
   "metadata": {},
   "outputs": [
    {
     "data": {
      "text/plain": [
       "1"
      ]
     },
     "execution_count": 23,
     "metadata": {},
     "output_type": "execute_result"
    }
   ],
   "source": [
    "t1.index(3.3)"
   ]
  },
  {
   "cell_type": "markdown",
   "id": "b0b503c4-07d2-4b50-a56a-02b2c055b405",
   "metadata": {},
   "source": [
    "#### Unlike list tuple are immutable"
   ]
  },
  {
   "cell_type": "markdown",
   "id": "9014421e-3806-4342-973f-32ccd511f38f",
   "metadata": {},
   "source": [
    "### Set"
   ]
  },
  {
   "cell_type": "code",
   "execution_count": 25,
   "id": "25610679-8275-40b9-8674-426a97b48a71",
   "metadata": {},
   "outputs": [],
   "source": [
    "s={}"
   ]
  },
  {
   "cell_type": "code",
   "execution_count": 26,
   "id": "5dde0a57-cbc7-4759-a620-4cc83fc2f9d3",
   "metadata": {},
   "outputs": [
    {
     "data": {
      "text/plain": [
       "dict"
      ]
     },
     "execution_count": 26,
     "metadata": {},
     "output_type": "execute_result"
    }
   ],
   "source": [
    "type(s)"
   ]
  },
  {
   "cell_type": "code",
   "execution_count": 27,
   "id": "4f6e4fd3-1a81-47ee-bc38-1b211f3e71aa",
   "metadata": {},
   "outputs": [],
   "source": [
    "s1={1,2,3,4}"
   ]
  },
  {
   "cell_type": "code",
   "execution_count": 28,
   "id": "319aa8c5-c2eb-4879-8e59-9f83b2046293",
   "metadata": {},
   "outputs": [
    {
     "data": {
      "text/plain": [
       "set"
      ]
     },
     "execution_count": 28,
     "metadata": {},
     "output_type": "execute_result"
    }
   ],
   "source": [
    "type(s1)"
   ]
  },
  {
   "cell_type": "code",
   "execution_count": 29,
   "id": "0d740795-f00c-4304-bed7-af11427c0b34",
   "metadata": {},
   "outputs": [],
   "source": [
    "s2={1,23,234,2,4234,24,234,24,24,23}"
   ]
  },
  {
   "cell_type": "code",
   "execution_count": 30,
   "id": "2228dba6-9fbc-4b6f-83ec-ee4bd98f07ac",
   "metadata": {},
   "outputs": [
    {
     "data": {
      "text/plain": [
       "{1, 2, 23, 24, 234, 4234}"
      ]
     },
     "execution_count": 30,
     "metadata": {},
     "output_type": "execute_result"
    }
   ],
   "source": [
    "s2  #removed all duplicate"
   ]
  },
  {
   "cell_type": "code",
   "execution_count": 31,
   "id": "0707aa07-23a2-46cc-9c79-9cf4bb99bf47",
   "metadata": {},
   "outputs": [
    {
     "data": {
      "text/plain": [
       "[1, 2, 23, 4234, 24, 234]"
      ]
     },
     "execution_count": 31,
     "metadata": {},
     "output_type": "execute_result"
    }
   ],
   "source": [
    "list(s2)"
   ]
  },
  {
   "cell_type": "code",
   "execution_count": 32,
   "id": "40f78211-ef87-439f-a59f-6b05d758a0da",
   "metadata": {},
   "outputs": [
    {
     "data": {
      "text/plain": [
       "(1, 2, 23, 4234, 24, 234)"
      ]
     },
     "execution_count": 32,
     "metadata": {},
     "output_type": "execute_result"
    }
   ],
   "source": [
    "tuple(s2)"
   ]
  },
  {
   "cell_type": "code",
   "execution_count": 33,
   "id": "0907d6e7-e627-491d-badc-dc38fbd88b5e",
   "metadata": {},
   "outputs": [],
   "source": [
    "s2.add(34)"
   ]
  },
  {
   "cell_type": "code",
   "execution_count": 34,
   "id": "37a598ed-68af-4fb3-9d78-f77c594b4a74",
   "metadata": {},
   "outputs": [
    {
     "data": {
      "text/plain": [
       "{1, 2, 23, 24, 34, 234, 4234}"
      ]
     },
     "execution_count": 34,
     "metadata": {},
     "output_type": "execute_result"
    }
   ],
   "source": [
    "s2"
   ]
  },
  {
   "cell_type": "code",
   "execution_count": 38,
   "id": "f83c92c9-c135-4c7c-a83d-8552c4554d75",
   "metadata": {},
   "outputs": [
    {
     "data": {
      "text/plain": [
       "34"
      ]
     },
     "execution_count": 38,
     "metadata": {},
     "output_type": "execute_result"
    }
   ],
   "source": [
    "s2.pop()"
   ]
  },
  {
   "cell_type": "markdown",
   "id": "ccfd5386-d384-4429-a298-ec18c2bff4cd",
   "metadata": {},
   "source": [
    "### Dictionary"
   ]
  },
  {
   "cell_type": "code",
   "execution_count": 1,
   "id": "f2241e31-412e-4190-bb04-d2803255b960",
   "metadata": {},
   "outputs": [],
   "source": [
    "d = {}"
   ]
  },
  {
   "cell_type": "code",
   "execution_count": 2,
   "id": "b28b5765-e25a-48e3-b78c-71d632a4d9c0",
   "metadata": {},
   "outputs": [
    {
     "data": {
      "text/plain": [
       "dict"
      ]
     },
     "execution_count": 2,
     "metadata": {},
     "output_type": "execute_result"
    }
   ],
   "source": [
    "type(d)"
   ]
  },
  {
   "cell_type": "code",
   "execution_count": 3,
   "id": "e1b73a2b-e80f-4238-8070-8917b785915b",
   "metadata": {},
   "outputs": [],
   "source": [
    "d1 ={\"name\" : \"Dev\",\"email-id\":\"ss@gmail.com\",\"number\":23456}\n",
    "## key and value they can be anything"
   ]
  },
  {
   "cell_type": "code",
   "execution_count": 4,
   "id": "51903a8c-9bc7-4c6c-b142-ba94c758710f",
   "metadata": {},
   "outputs": [
    {
     "data": {
      "text/plain": [
       "{'name': 'Dev', 'email-id': 'ss@gmail.com', 'number': 23456}"
      ]
     },
     "execution_count": 4,
     "metadata": {},
     "output_type": "execute_result"
    }
   ],
   "source": [
    "d1"
   ]
  },
  {
   "cell_type": "code",
   "execution_count": 5,
   "id": "ecbb303c-978c-4af5-9654-58a0fd1124f4",
   "metadata": {},
   "outputs": [],
   "source": [
    "d2 ={\"name\" : \"Dev\",\"name\":\"yash\",\"number\":23456}"
   ]
  },
  {
   "cell_type": "code",
   "execution_count": 6,
   "id": "487b4539-1c76-405b-b557-38566c7e02fc",
   "metadata": {},
   "outputs": [
    {
     "data": {
      "text/plain": [
       "{'name': 'yash', 'number': 23456}"
      ]
     },
     "execution_count": 6,
     "metadata": {},
     "output_type": "execute_result"
    }
   ],
   "source": [
    "d2 #never allow key to take repitative similiar to Oxford dic"
   ]
  },
  {
   "cell_type": "code",
   "execution_count": 7,
   "id": "e12b957e-321d-4553-942e-0a5fd248fc4b",
   "metadata": {},
   "outputs": [],
   "source": [
    "d3={2345:\"abc\"}  #key can be anything "
   ]
  },
  {
   "cell_type": "code",
   "execution_count": 8,
   "id": "ad3810a3-4f4a-42f0-b8f7-9ff63328503c",
   "metadata": {},
   "outputs": [
    {
     "data": {
      "text/plain": [
       "{2345: 'abc'}"
      ]
     },
     "execution_count": 8,
     "metadata": {},
     "output_type": "execute_result"
    }
   ],
   "source": [
    "d3"
   ]
  },
  {
   "cell_type": "code",
   "execution_count": 9,
   "id": "3654d7c8-4da8-4e52-affa-85d24638473f",
   "metadata": {},
   "outputs": [],
   "source": [
    "d4={1.23: \"dev\"}  #special case charater are not allowed"
   ]
  },
  {
   "cell_type": "code",
   "execution_count": 10,
   "id": "5660ba45-e91c-4193-b9d5-2213bf5198af",
   "metadata": {},
   "outputs": [
    {
     "data": {
      "text/plain": [
       "{1.23: 'dev'}"
      ]
     },
     "execution_count": 10,
     "metadata": {},
     "output_type": "execute_result"
    }
   ],
   "source": [
    "d4"
   ]
  },
  {
   "cell_type": "code",
   "execution_count": 11,
   "id": "aea09ac4-7325-4eed-9e38-64125045d6d3",
   "metadata": {},
   "outputs": [
    {
     "ename": "TypeError",
     "evalue": "unhashable type: 'list'",
     "output_type": "error",
     "traceback": [
      "\u001b[0;31m---------------------------------------------------------------------------\u001b[0m",
      "\u001b[0;31mTypeError\u001b[0m                                 Traceback (most recent call last)",
      "Cell \u001b[0;32mIn[11], line 1\u001b[0m\n\u001b[0;32m----> 1\u001b[0m d5\u001b[38;5;241m=\u001b[39m{[\u001b[38;5;241m1\u001b[39m,\u001b[38;5;241m3\u001b[39m,\u001b[38;5;241m2\u001b[39m]:\u001b[38;5;124m\"\u001b[39m\u001b[38;5;124mdev\u001b[39m\u001b[38;5;124m\"\u001b[39m}\n",
      "\u001b[0;31mTypeError\u001b[0m: unhashable type: 'list'"
     ]
    }
   ],
   "source": [
    "d5={[1,3,2]:\"dev\"}  #list cant be key"
   ]
  },
  {
   "cell_type": "code",
   "execution_count": 12,
   "id": "5f940c47-ece1-4b88-9dd5-72ad2d0563d8",
   "metadata": {},
   "outputs": [],
   "source": [
    "d6={(1,3,2):\"dev\"}"
   ]
  },
  {
   "cell_type": "code",
   "execution_count": 13,
   "id": "910eaebd-b957-4d18-876d-e7f288693fe8",
   "metadata": {},
   "outputs": [
    {
     "data": {
      "text/plain": [
       "{(1, 3, 2): 'dev'}"
      ]
     },
     "execution_count": 13,
     "metadata": {},
     "output_type": "execute_result"
    }
   ],
   "source": [
    "d6  # only tuple are possible to be taken as key ->not set ,list,dict"
   ]
  },
  {
   "cell_type": "code",
   "execution_count": 14,
   "id": "4b972795-b33a-4478-99d9-7afb5461bcec",
   "metadata": {},
   "outputs": [
    {
     "data": {
      "text/plain": [
       "{'course_name': ['dsm', 'jad', 'dads']}"
      ]
     },
     "execution_count": 14,
     "metadata": {},
     "output_type": "execute_result"
    }
   ],
   "source": [
    "d12={\"course_name\":[\"dsm\",\"jad\",\"dads\"]}\n",
    "d12"
   ]
  },
  {
   "cell_type": "code",
   "execution_count": 15,
   "id": "360e1b89-7444-4f8f-bea3-0e93c2260504",
   "metadata": {},
   "outputs": [
    {
     "data": {
      "text/plain": [
       "{'course_name': ('ads', 'ads', 'asd')}"
      ]
     },
     "execution_count": 15,
     "metadata": {},
     "output_type": "execute_result"
    }
   ],
   "source": [
    "d13={\"course_name\":(\"ads\",\"ads\",\"asd\")}\n",
    "d13"
   ]
  },
  {
   "cell_type": "code",
   "execution_count": 16,
   "id": "2e26db96-ec38-4845-af95-f45615f5b54a",
   "metadata": {},
   "outputs": [
    {
     "data": {
      "text/plain": [
       "{'key': {'name': 'dev', 'class': 'DSM'}}"
      ]
     },
     "execution_count": 16,
     "metadata": {},
     "output_type": "execute_result"
    }
   ],
   "source": [
    "d14={\"key\":{\"name\":\"dev\",\"class\":\"DSM\"}}  #dictionary inside dic called as Nested Dic\n",
    "d14"
   ]
  },
  {
   "cell_type": "code",
   "execution_count": 17,
   "id": "f2609d51-e2f0-4771-bee2-fdcf42ce63b2",
   "metadata": {},
   "outputs": [],
   "source": [
    "d16 = {\"batch_name\" :[\"data science masters\" , \"web dev\" , \"JDS\"] , \"start_date\": (28,14,21),\"mentor_name\" : {\"krish naik\", \"sudhanshu\" , \"hitesh\", \"anurag\" , \"navin\",\"hayder\"}}"
   ]
  },
  {
   "cell_type": "code",
   "execution_count": 18,
   "id": "7b40bfa1-6b73-4244-b0fb-c5649778a66c",
   "metadata": {},
   "outputs": [
    {
     "data": {
      "text/plain": [
       "{'batch_name': ['data science masters', 'web dev', 'JDS'],\n",
       " 'start_date': (28, 14, 21),\n",
       " 'mentor_name': {'anurag',\n",
       "  'hayder',\n",
       "  'hitesh',\n",
       "  'krish naik',\n",
       "  'navin',\n",
       "  'sudhanshu'}}"
      ]
     },
     "execution_count": 18,
     "metadata": {},
     "output_type": "execute_result"
    }
   ],
   "source": [
    "d16"
   ]
  },
  {
   "cell_type": "code",
   "execution_count": 18,
   "id": "25d9e3e9-a6d8-42db-bf2d-21c78b4ac485",
   "metadata": {},
   "outputs": [],
   "source": [
    "#adding new key and value in dictionary\n",
    "d16[\"timing\"] = (1,2,3)"
   ]
  },
  {
   "cell_type": "code",
   "execution_count": 20,
   "id": "167d270b-fbd7-4a1c-885e-e1ff1af965fb",
   "metadata": {},
   "outputs": [
    {
     "data": {
      "text/plain": [
       "{'batch_name': ['data science masters', 'web dev', 'JDS'],\n",
       " 'start_date': (28, 14, 21),\n",
       " 'mentor_name': {'anurag',\n",
       "  'hayder',\n",
       "  'hitesh',\n",
       "  'krish naik',\n",
       "  'navin',\n",
       "  'sudhanshu'},\n",
       " 'timing': (1, 2, 3)}"
      ]
     },
     "execution_count": 20,
     "metadata": {},
     "output_type": "execute_result"
    }
   ],
   "source": [
    "d16"
   ]
  },
  {
   "cell_type": "code",
   "execution_count": 3,
   "id": "6ea623a7-0fd1-41fb-8f5a-a30b0d08932e",
   "metadata": {},
   "outputs": [
    {
     "data": {
      "text/plain": [
       "['data science masters', 'web dev', 'JDS']"
      ]
     },
     "execution_count": 3,
     "metadata": {},
     "output_type": "execute_result"
    }
   ],
   "source": [
    "#extracting particular data\n",
    "d16[\"batch_name\"]"
   ]
  },
  {
   "cell_type": "code",
   "execution_count": 22,
   "id": "f669385a-9913-491c-b515-f7e41bc92f7e",
   "metadata": {},
   "outputs": [],
   "source": [
    "d16[\"name\"]=\"Dev\""
   ]
  },
  {
   "cell_type": "code",
   "execution_count": 24,
   "id": "6cacdafa-fdb3-4e67-a315-bf1c2146f646",
   "metadata": {},
   "outputs": [
    {
     "data": {
      "text/plain": [
       "'DEV'"
      ]
     },
     "execution_count": 24,
     "metadata": {},
     "output_type": "execute_result"
    }
   ],
   "source": [
    "d16[\"name\"].upper()"
   ]
  },
  {
   "cell_type": "code",
   "execution_count": 25,
   "id": "78a3c6a7-8d44-4445-b251-fcf50756acf8",
   "metadata": {},
   "outputs": [
    {
     "data": {
      "text/plain": [
       "'data science masters'"
      ]
     },
     "execution_count": 25,
     "metadata": {},
     "output_type": "execute_result"
    }
   ],
   "source": [
    "d16['batch_name'][0]"
   ]
  },
  {
   "cell_type": "code",
   "execution_count": 26,
   "id": "b2a8374c-0554-4d62-a6d6-e7e87d8a0a12",
   "metadata": {},
   "outputs": [
    {
     "data": {
      "text/plain": [
       "dict_keys(['batch_name', 'start_date', 'mentor_name', 'timing', 'name'])"
      ]
     },
     "execution_count": 26,
     "metadata": {},
     "output_type": "execute_result"
    }
   ],
   "source": [
    "d16.keys()"
   ]
  },
  {
   "cell_type": "code",
   "execution_count": 4,
   "id": "be8093d9-713b-4e26-b1fb-2121d86281ed",
   "metadata": {},
   "outputs": [
    {
     "data": {
      "text/plain": [
       "['batch_name', 'start_date', 'mentor_name', 'timing']"
      ]
     },
     "execution_count": 4,
     "metadata": {},
     "output_type": "execute_result"
    }
   ],
   "source": [
    "list(d16.keys())"
   ]
  },
  {
   "cell_type": "code",
   "execution_count": 5,
   "id": "78f44f4f-71d1-4d81-88be-97e44740d608",
   "metadata": {},
   "outputs": [
    {
     "data": {
      "text/plain": [
       "dict_items([('batch_name', ['data science masters', 'web dev', 'JDS']), ('start_date', (28, 14, 21)), ('mentor_name', {'hayder', 'krish naik', 'hitesh', 'sudhanshu', 'navin', 'anurag'}), ('timing', (1, 2, 3))])"
      ]
     },
     "execution_count": 5,
     "metadata": {},
     "output_type": "execute_result"
    }
   ],
   "source": [
    "d16.items()"
   ]
  },
  {
   "cell_type": "code",
   "execution_count": 6,
   "id": "892ac688-ac9c-47b8-a564-62422b9a8a78",
   "metadata": {},
   "outputs": [
    {
     "data": {
      "text/plain": [
       "[('batch_name', ['data science masters', 'web dev', 'JDS']),\n",
       " ('start_date', (28, 14, 21)),\n",
       " ('mentor_name',\n",
       "  {'anurag', 'hayder', 'hitesh', 'krish naik', 'navin', 'sudhanshu'}),\n",
       " ('timing', (1, 2, 3))]"
      ]
     },
     "execution_count": 6,
     "metadata": {},
     "output_type": "execute_result"
    }
   ],
   "source": [
    "list(d16.items())"
   ]
  },
  {
   "cell_type": "code",
   "execution_count": 7,
   "id": "67175e7b-131c-4acb-9d0c-e699a158c4fd",
   "metadata": {},
   "outputs": [
    {
     "data": {
      "text/plain": [
       "{'batch_name': ['data science masters', 'web dev', 'JDS'],\n",
       " 'start_date': (28, 14, 21),\n",
       " 'mentor_name': {'anurag',\n",
       "  'hayder',\n",
       "  'hitesh',\n",
       "  'krish naik',\n",
       "  'navin',\n",
       "  'sudhanshu'},\n",
       " 'timing': (1, 2, 3)}"
      ]
     },
     "execution_count": 7,
     "metadata": {},
     "output_type": "execute_result"
    }
   ],
   "source": [
    "d16"
   ]
  },
  {
   "cell_type": "code",
   "execution_count": 9,
   "id": "a377fe6d-9124-4446-b1c1-84fda6431341",
   "metadata": {},
   "outputs": [],
   "source": [
    "d17=d16.copy()"
   ]
  },
  {
   "cell_type": "code",
   "execution_count": 10,
   "id": "7394375b-09ea-41d0-966d-b9d39e60a3c5",
   "metadata": {},
   "outputs": [
    {
     "data": {
      "text/plain": [
       "{'batch_name': ['data science masters', 'web dev', 'JDS'],\n",
       " 'start_date': (28, 14, 21),\n",
       " 'mentor_name': {'anurag',\n",
       "  'hayder',\n",
       "  'hitesh',\n",
       "  'krish naik',\n",
       "  'navin',\n",
       "  'sudhanshu'},\n",
       " 'timing': (1, 2, 3)}"
      ]
     },
     "execution_count": 10,
     "metadata": {},
     "output_type": "execute_result"
    }
   ],
   "source": [
    "d17"
   ]
  },
  {
   "cell_type": "code",
   "execution_count": null,
   "id": "bb89915d-f8a4-4c22-af17-54b59df9c1a4",
   "metadata": {},
   "outputs": [],
   "source": [
    "d18=d16 #it will not give new memory location but for d17 new memory is created"
   ]
  },
  {
   "cell_type": "code",
   "execution_count": 14,
   "id": "561877ad-1fa2-43bb-af57-aff4f174193d",
   "metadata": {},
   "outputs": [
    {
     "data": {
      "text/plain": [
       "{'batch_name': ['data science masters', 'web dev', 'JDS'],\n",
       " 'start_date': (28, 14, 21),\n",
       " 'mentor_name': {'anurag',\n",
       "  'hayder',\n",
       "  'hitesh',\n",
       "  'krish naik',\n",
       "  'navin',\n",
       "  'sudhanshu'},\n",
       " 'timing': (1, 2, 3)}"
      ]
     },
     "execution_count": 14,
     "metadata": {},
     "output_type": "execute_result"
    }
   ],
   "source": [
    "d16"
   ]
  },
  {
   "cell_type": "code",
   "execution_count": 15,
   "id": "e66d5d3e-be95-4ceb-98f2-0b29c954d08a",
   "metadata": {},
   "outputs": [
    {
     "data": {
      "text/plain": [
       "(1, 2, 3)"
      ]
     },
     "execution_count": 15,
     "metadata": {},
     "output_type": "execute_result"
    }
   ],
   "source": [
    "d16.pop(\"timing\")"
   ]
  },
  {
   "cell_type": "code",
   "execution_count": 16,
   "id": "f9aabff4-16dd-4a95-9dc5-3d81e17d42cc",
   "metadata": {},
   "outputs": [
    {
     "data": {
      "text/plain": [
       "{'batch_name': ['data science masters', 'web dev', 'JDS'],\n",
       " 'start_date': (28, 14, 21),\n",
       " 'mentor_name': {'anurag',\n",
       "  'hayder',\n",
       "  'hitesh',\n",
       "  'krish naik',\n",
       "  'navin',\n",
       "  'sudhanshu'}}"
      ]
     },
     "execution_count": 16,
     "metadata": {},
     "output_type": "execute_result"
    }
   ],
   "source": [
    "d16"
   ]
  },
  {
   "cell_type": "code",
   "execution_count": 20,
   "id": "6e10911f-095e-4ce8-8bc6-579a0e860071",
   "metadata": {},
   "outputs": [
    {
     "data": {
      "text/plain": [
       "{1: ('a', 'b', 'c'), 2: ('a', 'b', 'c'), 3: ('a', 'b', 'c')}"
      ]
     },
     "execution_count": 20,
     "metadata": {},
     "output_type": "execute_result"
    }
   ],
   "source": [
    "d16.fromkeys((1,2,3),('a','b','c'))"
   ]
  },
  {
   "cell_type": "code",
   "execution_count": 21,
   "id": "8b4cbf07-ed12-4056-b484-8665cbff3acd",
   "metadata": {},
   "outputs": [
    {
     "data": {
      "text/plain": [
       "{'batch_name': ['data science masters', 'web dev', 'JDS'],\n",
       " 'start_date': (28, 14, 21),\n",
       " 'mentor_name': {'anurag',\n",
       "  'hayder',\n",
       "  'hitesh',\n",
       "  'krish naik',\n",
       "  'navin',\n",
       "  'sudhanshu'},\n",
       " 'timing': (1, 2, 3)}"
      ]
     },
     "execution_count": 21,
     "metadata": {},
     "output_type": "execute_result"
    }
   ],
   "source": [
    "d16"
   ]
  },
  {
   "cell_type": "code",
   "execution_count": 22,
   "id": "1bcc1c05-0c5f-4655-929e-9419e7839edb",
   "metadata": {},
   "outputs": [],
   "source": [
    "d19={\"key1\":\"value\",\"key2\":\"value2\"}\n",
    "d20={\"key3\":\"v3\",\"key4\":\"v4\"}"
   ]
  },
  {
   "cell_type": "code",
   "execution_count": 23,
   "id": "6760c4e2-3671-4548-8894-59d1a570e44e",
   "metadata": {},
   "outputs": [
    {
     "data": {
      "text/plain": [
       "({'key1': 'value', 'key2': 'value2'}, {'key3': 'v3', 'key4': 'v4'})"
      ]
     },
     "execution_count": 23,
     "metadata": {},
     "output_type": "execute_result"
    }
   ],
   "source": [
    "(d19,d20)"
   ]
  },
  {
   "cell_type": "code",
   "execution_count": 24,
   "id": "a0885f46-acb7-48f2-a682-41816f3b4fc3",
   "metadata": {},
   "outputs": [],
   "source": [
    "d19.update(d20)"
   ]
  },
  {
   "cell_type": "code",
   "execution_count": 25,
   "id": "d39fba39-28b7-4751-8c23-580844938740",
   "metadata": {},
   "outputs": [
    {
     "data": {
      "text/plain": [
       "{'key1': 'value', 'key2': 'value2', 'key3': 'v3', 'key4': 'v4'}"
      ]
     },
     "execution_count": 25,
     "metadata": {},
     "output_type": "execute_result"
    }
   ],
   "source": [
    "d19"
   ]
  },
  {
   "cell_type": "code",
   "execution_count": 26,
   "id": "6f78ee4b-a339-4487-9e52-7fc526cffc9b",
   "metadata": {},
   "outputs": [
    {
     "data": {
      "text/plain": [
       "{'key3': 'v3', 'key4': 'v4'}"
      ]
     },
     "execution_count": 26,
     "metadata": {},
     "output_type": "execute_result"
    }
   ],
   "source": [
    "d20"
   ]
  },
  {
   "cell_type": "markdown",
   "id": "37ec4736-3644-4812-9aba-2a29d9ab0da1",
   "metadata": {},
   "source": [
    "Disctionary Comprehensions"
   ]
  },
  {
   "cell_type": "code",
   "execution_count": 28,
   "id": "6f4ace76-e3d6-4f17-8469-2bbd8fbbc0e9",
   "metadata": {},
   "outputs": [
    {
     "data": {
      "text/plain": [
       "{1: 1, 2: 4, 3: 9, 4: 16, 5: 25, 6: 36, 7: 49, 8: 64, 9: 81, 10: 100}"
      ]
     },
     "execution_count": 28,
     "metadata": {},
     "output_type": "execute_result"
    }
   ],
   "source": [
    "{i : i**2 for i in range(1,11)}"
   ]
  },
  {
   "cell_type": "code",
   "execution_count": 33,
   "id": "ce77c9e0-84c8-4403-955e-f7dfa7fb9631",
   "metadata": {},
   "outputs": [
    {
     "data": {
      "text/plain": [
       "{0: 0,\n",
       " 1: 1,\n",
       " 2: 512,\n",
       " 3: 19683,\n",
       " 4: 262144,\n",
       " 5: 1953125,\n",
       " 6: 10077696,\n",
       " 7: 40353607,\n",
       " 8: 134217728,\n",
       " 9: 387420489,\n",
       " 10: 1000000000}"
      ]
     },
     "execution_count": 33,
     "metadata": {},
     "output_type": "execute_result"
    }
   ],
   "source": [
    "{i:i**9 for i in range(11)}"
   ]
  },
  {
   "cell_type": "code",
   "execution_count": 34,
   "id": "10f2ef5c-bf2d-471b-9e7d-e236ac9e9c80",
   "metadata": {},
   "outputs": [
    {
     "data": {
      "text/plain": [
       "[0, 1, 2, 3, 4, 5, 6, 7, 8, 9, 10]"
      ]
     },
     "execution_count": 34,
     "metadata": {},
     "output_type": "execute_result"
    }
   ],
   "source": [
    "[i for i in range(11)]"
   ]
  },
  {
   "cell_type": "code",
   "execution_count": 42,
   "id": "55d5825e-0db5-4c40-96f5-ba7bff8269be",
   "metadata": {},
   "outputs": [],
   "source": [
    "#iterating our dictionary\n"
   ]
  },
  {
   "cell_type": "markdown",
   "id": "95f800de-74ad-4fa4-b847-ac3805cd80b9",
   "metadata": {},
   "source": [
    "### Functions"
   ]
  },
  {
   "cell_type": "code",
   "execution_count": 44,
   "id": "cce25352-4ea9-4771-9d9e-7a287fa4b47e",
   "metadata": {},
   "outputs": [],
   "source": [
    "def test():\n",
    "    pass"
   ]
  },
  {
   "cell_type": "code",
   "execution_count": 45,
   "id": "d6a02053-8ab2-41d5-806d-468e57fa3660",
   "metadata": {},
   "outputs": [],
   "source": [
    "def test1():\n",
    "    print(\"first function\")"
   ]
  },
  {
   "cell_type": "code",
   "execution_count": 46,
   "id": "fbb3ca08-c1c5-4e63-9c5d-75a2e74964c7",
   "metadata": {},
   "outputs": [
    {
     "name": "stdout",
     "output_type": "stream",
     "text": [
      "first function\n"
     ]
    }
   ],
   "source": [
    "test1()  #functions increase usability and modulabilty"
   ]
  },
  {
   "cell_type": "code",
   "execution_count": 47,
   "id": "32780cd7-304c-451f-b3bf-31df3a3afd8d",
   "metadata": {},
   "outputs": [
    {
     "name": "stdout",
     "output_type": "stream",
     "text": [
      "first function\n"
     ]
    },
    {
     "ename": "TypeError",
     "evalue": "unsupported operand type(s) for +: 'NoneType' and 'str'",
     "output_type": "error",
     "traceback": [
      "\u001b[0;31m---------------------------------------------------------------------------\u001b[0m",
      "\u001b[0;31mTypeError\u001b[0m                                 Traceback (most recent call last)",
      "Cell \u001b[0;32mIn[47], line 1\u001b[0m\n\u001b[0;32m----> 1\u001b[0m \u001b[43mtest1\u001b[49m\u001b[43m(\u001b[49m\u001b[43m)\u001b[49m\u001b[38;5;241;43m+\u001b[39;49m\u001b[43m \u001b[49m\u001b[38;5;124;43m\"\u001b[39;49m\u001b[38;5;124;43mdev\u001b[39;49m\u001b[38;5;124;43m\"\u001b[39;49m\n",
      "\u001b[0;31mTypeError\u001b[0m: unsupported operand type(s) for +: 'NoneType' and 'str'"
     ]
    }
   ],
   "source": [
    "test1()+ \"dev\"  ##nonetype(print returns nonetype) and str "
   ]
  },
  {
   "cell_type": "code",
   "execution_count": 51,
   "id": "6f5633d3-0c6b-4591-82c6-aa9e54918514",
   "metadata": {},
   "outputs": [],
   "source": [
    "def test2():          #use return always as it gives particular\n",
    "    return \"this is my fn with return \""
   ]
  },
  {
   "cell_type": "code",
   "execution_count": 52,
   "id": "efee426e-f75b-4fac-a64b-2a772c2967c5",
   "metadata": {},
   "outputs": [
    {
     "data": {
      "text/plain": [
       "'this is my fn with return dev'"
      ]
     },
     "execution_count": 52,
     "metadata": {},
     "output_type": "execute_result"
    }
   ],
   "source": [
    "test2()+\"dev\""
   ]
  },
  {
   "cell_type": "code",
   "execution_count": 55,
   "id": "e8ccf16f-ec8d-4566-8f67-8d6df001ef8d",
   "metadata": {},
   "outputs": [],
   "source": [
    "def test3():\n",
    "    return 1,2,\"dev\",2.3"
   ]
  },
  {
   "cell_type": "code",
   "execution_count": 56,
   "id": "49dac510-668c-400e-b69b-2fa4cb9674bc",
   "metadata": {},
   "outputs": [
    {
     "data": {
      "text/plain": [
       "(1, 2, 'dev', 2.3)"
      ]
     },
     "execution_count": 56,
     "metadata": {},
     "output_type": "execute_result"
    }
   ],
   "source": [
    "test3()"
   ]
  },
  {
   "cell_type": "code",
   "execution_count": 57,
   "id": "1e617a27-f577-441c-9c68-a098e52bcfd6",
   "metadata": {},
   "outputs": [
    {
     "data": {
      "text/plain": [
       "1"
      ]
     },
     "execution_count": 57,
     "metadata": {},
     "output_type": "execute_result"
    }
   ],
   "source": [
    "test3()[0]"
   ]
  },
  {
   "cell_type": "code",
   "execution_count": 58,
   "id": "958b6030-5768-4b83-ad9f-6f7668536cc9",
   "metadata": {},
   "outputs": [],
   "source": [
    "def test4():\n",
    "    a=4*3+5\n",
    "    return a"
   ]
  },
  {
   "cell_type": "code",
   "execution_count": 59,
   "id": "4f8bc794-7b17-4967-ac51-9679108933a4",
   "metadata": {},
   "outputs": [
    {
     "data": {
      "text/plain": [
       "17"
      ]
     },
     "execution_count": 59,
     "metadata": {},
     "output_type": "execute_result"
    }
   ],
   "source": [
    "test4()"
   ]
  },
  {
   "cell_type": "code",
   "execution_count": 7,
   "id": "c1c0ad61-cd8c-4f83-b38d-24fbbb0c0e0d",
   "metadata": {},
   "outputs": [],
   "source": [
    "def test5(a,b):  # a and b are agrument\n",
    "    c=a+b\n",
    "    return c"
   ]
  },
  {
   "cell_type": "code",
   "execution_count": 3,
   "id": "c8df21e0-cfe1-4ff5-9519-17d52ba7c19f",
   "metadata": {},
   "outputs": [
    {
     "data": {
      "text/plain": [
       "265613988875874769338781322035779626829233452653394495974574961739092490901302182994384699044001"
      ]
     },
     "execution_count": 3,
     "metadata": {},
     "output_type": "execute_result"
    }
   ],
   "source": [
    "test5(9,100)"
   ]
  },
  {
   "cell_type": "code",
   "execution_count": 8,
   "id": "de1d69a9-9f59-469e-a6e1-4cf56004db6e",
   "metadata": {},
   "outputs": [
    {
     "data": {
      "text/plain": [
       "[1, 2, 3, 1, 2, 3]"
      ]
     },
     "execution_count": 8,
     "metadata": {},
     "output_type": "execute_result"
    }
   ],
   "source": [
    "test5([1,2,3],[1,2,3])"
   ]
  },
  {
   "cell_type": "code",
   "execution_count": 9,
   "id": "1b91e5e5-233d-4aea-a577-983b526afdba",
   "metadata": {},
   "outputs": [
    {
     "data": {
      "text/plain": [
       "'haraldev'"
      ]
     },
     "execution_count": 9,
     "metadata": {},
     "output_type": "execute_result"
    }
   ],
   "source": [
    "test5(b=\"dev\",a=\"haral\")"
   ]
  },
  {
   "cell_type": "code",
   "execution_count": 10,
   "id": "90991b24-59a5-42d7-8973-3b33dce6858d",
   "metadata": {},
   "outputs": [],
   "source": [
    "l=[1,2,3,4,5,\"dev\",\"pwskills\",[1,2,3,12]]"
   ]
  },
  {
   "cell_type": "code",
   "execution_count": 18,
   "id": "134c563b-31dd-4f2d-a21c-a4dead487ba5",
   "metadata": {},
   "outputs": [],
   "source": [
    "#create a function which will take list as input and give me final list as numeric\n",
    "def test6(a):\n",
    "    n=[]\n",
    "    for i in a:\n",
    "        if type(i)==int or type(i)==float:\n",
    "            n.append(i)\n",
    "        elif type(i)==list:\n",
    "            for j in i:\n",
    "                n.append(j)\n",
    "            \n",
    "    return n"
   ]
  },
  {
   "cell_type": "code",
   "execution_count": 19,
   "id": "b2d2563f-2012-4e7d-9ba2-55c0ba5a7f90",
   "metadata": {},
   "outputs": [
    {
     "data": {
      "text/plain": [
       "[1, 2, 3, 4, 5, 1, 2, 3, 12]"
      ]
     },
     "execution_count": 19,
     "metadata": {},
     "output_type": "execute_result"
    }
   ],
   "source": [
    "test6(l)"
   ]
  },
  {
   "cell_type": "code",
   "execution_count": 21,
   "id": "a5d51bea-eac3-4c74-8dcf-ac1e15cab1ba",
   "metadata": {},
   "outputs": [],
   "source": [
    "def test7(a,b,c,d,e):\n",
    "    pass"
   ]
  },
  {
   "cell_type": "code",
   "execution_count": 23,
   "id": "9cfc8638-b8a7-4cee-8aeb-3681f98c3f05",
   "metadata": {},
   "outputs": [],
   "source": [
    "#create function which can take any number of arguments\n",
    "def test1(*args):\n",
    "    return args"
   ]
  },
  {
   "cell_type": "code",
   "execution_count": 24,
   "id": "fe7d584d-9569-4b89-89fb-ea16078b8e0b",
   "metadata": {},
   "outputs": [
    {
     "data": {
      "text/plain": [
       "(2,)"
      ]
     },
     "execution_count": 24,
     "metadata": {},
     "output_type": "execute_result"
    }
   ],
   "source": [
    "test1(2)"
   ]
  },
  {
   "cell_type": "code",
   "execution_count": 26,
   "id": "108fc557-8fc1-4812-925c-fbf0c79de65c",
   "metadata": {},
   "outputs": [
    {
     "data": {
      "text/plain": [
       "(1, 2, 3, 'dev')"
      ]
     },
     "execution_count": 26,
     "metadata": {},
     "output_type": "execute_result"
    }
   ],
   "source": [
    "test1(1,2,3,\"dev\")"
   ]
  },
  {
   "cell_type": "code",
   "execution_count": 27,
   "id": "4a7df05a-cbbd-47ea-8d7b-8a88b0189e2f",
   "metadata": {},
   "outputs": [],
   "source": [
    "def dev(*dev):\n",
    "    return dev"
   ]
  },
  {
   "cell_type": "code",
   "execution_count": 30,
   "id": "0955a3f3-9aff-4143-afea-c639a0bd31e2",
   "metadata": {},
   "outputs": [
    {
     "data": {
      "text/plain": [
       "('dev',)"
      ]
     },
     "execution_count": 30,
     "metadata": {},
     "output_type": "execute_result"
    }
   ],
   "source": [
    "dev(\"dev\")"
   ]
  },
  {
   "cell_type": "code",
   "execution_count": 32,
   "id": "9622d486-988d-4b54-a26f-b2b817ab2046",
   "metadata": {},
   "outputs": [],
   "source": [
    "def test3(*args ,a):\n",
    "    return args, a"
   ]
  },
  {
   "cell_type": "code",
   "execution_count": 33,
   "id": "ec307728-6bb1-4027-8999-243459bed13f",
   "metadata": {},
   "outputs": [
    {
     "ename": "TypeError",
     "evalue": "test3() missing 1 required keyword-only argument: 'a'",
     "output_type": "error",
     "traceback": [
      "\u001b[0;31m---------------------------------------------------------------------------\u001b[0m",
      "\u001b[0;31mTypeError\u001b[0m                                 Traceback (most recent call last)",
      "Cell \u001b[0;32mIn[33], line 1\u001b[0m\n\u001b[0;32m----> 1\u001b[0m \u001b[43mtest3\u001b[49m\u001b[43m(\u001b[49m\u001b[38;5;241;43m1\u001b[39;49m\u001b[43m,\u001b[49m\u001b[38;5;241;43m2\u001b[39;49m\u001b[43m,\u001b[49m\u001b[38;5;241;43m3\u001b[39;49m\u001b[43m)\u001b[49m\n",
      "\u001b[0;31mTypeError\u001b[0m: test3() missing 1 required keyword-only argument: 'a'"
     ]
    }
   ],
   "source": [
    "test3(1,2,3)"
   ]
  },
  {
   "cell_type": "code",
   "execution_count": 34,
   "id": "b8e2cec9-2db7-49de-b0bc-ab394871fabd",
   "metadata": {},
   "outputs": [
    {
     "data": {
      "text/plain": [
       "((1, 2, 3), 'dev')"
      ]
     },
     "execution_count": 34,
     "metadata": {},
     "output_type": "execute_result"
    }
   ],
   "source": [
    "test3(1,2,3,a=\"dev\")"
   ]
  },
  {
   "cell_type": "code",
   "execution_count": 37,
   "id": "04cb4f78-2be8-4372-b6ad-3cac4e56b615",
   "metadata": {},
   "outputs": [],
   "source": [
    "def test4(*args):\n",
    "    l=[]\n",
    "    for i in args:\n",
    "        if type(i)==list:\n",
    "            l.append(i)\n",
    "    return l       "
   ]
  },
  {
   "cell_type": "code",
   "execution_count": 38,
   "id": "27fd0ad3-6d46-46c2-a6ab-aaac7c1f0c8e",
   "metadata": {},
   "outputs": [
    {
     "data": {
      "text/plain": [
       "[[1, 1, 1], ['dev']]"
      ]
     },
     "execution_count": 38,
     "metadata": {},
     "output_type": "execute_result"
    }
   ],
   "source": [
    "#All data will be stored as tuple\n",
    "test4(1,2,3,4,[1,1,1],(1,1,1),\"dev\",[\"dev\"])"
   ]
  },
  {
   "cell_type": "code",
   "execution_count": 39,
   "id": "558e40d2-10a9-4f5a-9c5a-27d0a587d609",
   "metadata": {},
   "outputs": [],
   "source": [
    "#passing key and value pair -> Dictionary\n",
    "def test5(**kwargs):\n",
    "    return kwargs\n",
    "    "
   ]
  },
  {
   "cell_type": "code",
   "execution_count": 40,
   "id": "341cf79f-dbcf-4949-8ff3-d3efa1cfe669",
   "metadata": {},
   "outputs": [
    {
     "data": {
      "text/plain": [
       "{}"
      ]
     },
     "execution_count": 40,
     "metadata": {},
     "output_type": "execute_result"
    }
   ],
   "source": [
    "test5()"
   ]
  },
  {
   "cell_type": "code",
   "execution_count": 42,
   "id": "4f3d8539-30d3-492c-a7a3-4453a6053713",
   "metadata": {},
   "outputs": [
    {
     "data": {
      "text/plain": [
       "dict"
      ]
     },
     "execution_count": 42,
     "metadata": {},
     "output_type": "execute_result"
    }
   ],
   "source": [
    "type(test5())"
   ]
  },
  {
   "cell_type": "code",
   "execution_count": 43,
   "id": "9f1b5e14-1fb3-4adc-9599-006f955a5a81",
   "metadata": {},
   "outputs": [
    {
     "data": {
      "text/plain": [
       "{'a': 34, 'b': 29, 'c': [1, 2, 3], 'd': {'pwskills', 'such'}}"
      ]
     },
     "execution_count": 43,
     "metadata": {},
     "output_type": "execute_result"
    }
   ],
   "source": [
    "test5(a=34,b=29,c=[1,2,3],d={'such','pwskills'})"
   ]
  },
  {
   "cell_type": "code",
   "execution_count": 44,
   "id": "15070ecc-d642-4ce0-807c-79cf4345a25c",
   "metadata": {},
   "outputs": [],
   "source": [
    "def test6(**kwargs):\n",
    "    for i in kwargs.keys():\n",
    "        if type(kwargs[i])==list:\n",
    "            return i,kwargs[i]"
   ]
  },
  {
   "cell_type": "code",
   "execution_count": 45,
   "id": "0c23e7c6-c13f-46c0-a20f-e55f900eaae5",
   "metadata": {},
   "outputs": [
    {
     "data": {
      "text/plain": [
       "('c', [1, 2, 3])"
      ]
     },
     "execution_count": 45,
     "metadata": {},
     "output_type": "execute_result"
    }
   ],
   "source": [
    "test6(a=34,b=29,c=[1,2,3],d={'such','pwskills'})"
   ]
  },
  {
   "cell_type": "code",
   "execution_count": 46,
   "id": "f2d13b91-50a0-48d6-bbe6-f6ce37f203bb",
   "metadata": {},
   "outputs": [],
   "source": [
    "def test7(*args,**kwargs):\n",
    "    return args , kwargs"
   ]
  },
  {
   "cell_type": "code",
   "execution_count": 47,
   "id": "4fb6b944-716e-478d-965f-1adf59a1b681",
   "metadata": {},
   "outputs": [
    {
     "data": {
      "text/plain": [
       "((2, 2, 2, 2), {'a': 23, 'b': 23})"
      ]
     },
     "execution_count": 47,
     "metadata": {},
     "output_type": "execute_result"
    }
   ],
   "source": [
    "test7(2,2,2,2,a=23,b=23)"
   ]
  },
  {
   "cell_type": "markdown",
   "id": "8610328b-9a4c-49d9-be26-833534819e6c",
   "metadata": {},
   "source": [
    "#### Generator Functions"
   ]
  },
  {
   "cell_type": "code",
   "execution_count": 49,
   "id": "53e2dd20-431d-4d87-b2b7-b18aad7ff035",
   "metadata": {},
   "outputs": [
    {
     "data": {
      "text/plain": [
       "range(1, 10)"
      ]
     },
     "execution_count": 49,
     "metadata": {},
     "output_type": "execute_result"
    }
   ],
   "source": [
    "range(1,10)"
   ]
  },
  {
   "cell_type": "code",
   "execution_count": 53,
   "id": "24fc0bb9-b118-4fcb-b770-157de115b79a",
   "metadata": {},
   "outputs": [
    {
     "name": "stdout",
     "output_type": "stream",
     "text": [
      "1 2 3 4 5 6 7 8 9 "
     ]
    }
   ],
   "source": [
    "for i in range(1,10):\n",
    "    print(i,end=\" \")"
   ]
  },
  {
   "cell_type": "code",
   "execution_count": 54,
   "id": "6e3b48f7-4248-49e0-8c1f-6c6ba5341c90",
   "metadata": {},
   "outputs": [],
   "source": [
    "def test1(a):\n",
    "    n=[]\n",
    "    for i in a:\n",
    "        if type(i)==int:\n",
    "            n.append(i)\n",
    "    return n"
   ]
  },
  {
   "cell_type": "code",
   "execution_count": 55,
   "id": "b813823c-649b-4673-9944-a010606823c6",
   "metadata": {},
   "outputs": [
    {
     "data": {
      "text/plain": [
       "[1, 2, 3, 3, 4, 4]"
      ]
     },
     "execution_count": 55,
     "metadata": {},
     "output_type": "execute_result"
    }
   ],
   "source": [
    "l=[1,2,3,3,4,4]\n",
    "test1(l)"
   ]
  },
  {
   "cell_type": "code",
   "execution_count": 59,
   "id": "61dd913e-64df-4382-a541-e7fba4a378bf",
   "metadata": {},
   "outputs": [],
   "source": [
    "# create range like function which does store data they just generate and print\n",
    "# whereas test1 function iterates over n again and again which would take much time\n",
    "\n",
    "def test_fib(n):\n",
    "    a,b=1,2\n",
    "    for i in range(n):\n",
    "        yield a               #yield mean print a \n",
    "        a,b=b,a+b\n"
   ]
  },
  {
   "cell_type": "code",
   "execution_count": 60,
   "id": "131e3c8d-46cd-47db-a2f5-937dc29a99d6",
   "metadata": {},
   "outputs": [
    {
     "data": {
      "text/plain": [
       "<generator object test_fib at 0x7f32d9f3eb20>"
      ]
     },
     "execution_count": 60,
     "metadata": {},
     "output_type": "execute_result"
    }
   ],
   "source": [
    "test_fib(10)"
   ]
  },
  {
   "cell_type": "code",
   "execution_count": 61,
   "id": "9206ac75-d2ce-4d61-a826-079a7fa457dc",
   "metadata": {},
   "outputs": [
    {
     "name": "stdout",
     "output_type": "stream",
     "text": [
      "1\n",
      "2\n",
      "3\n",
      "5\n",
      "8\n",
      "13\n",
      "21\n",
      "34\n",
      "55\n",
      "89\n"
     ]
    }
   ],
   "source": [
    "for i in test_fib(10):\n",
    "    print(i)"
   ]
  },
  {
   "cell_type": "markdown",
   "id": "95b49e86-acb9-4091-99d3-f1ec89ba4c13",
   "metadata": {},
   "source": [
    "#### Lambda Function"
   ]
  },
  {
   "cell_type": "code",
   "execution_count": 62,
   "id": "6975c49d-5019-481a-91a9-f3225fc96020",
   "metadata": {},
   "outputs": [],
   "source": [
    "n=4\n",
    "p=9"
   ]
  },
  {
   "cell_type": "code",
   "execution_count": 63,
   "id": "309aa4db-9984-492a-8d89-f79ebc7034d2",
   "metadata": {},
   "outputs": [],
   "source": [
    "def test(n,p):\n",
    "    return n**p"
   ]
  },
  {
   "cell_type": "code",
   "execution_count": 64,
   "id": "e644f5ef-4d71-4bbe-b970-fab872dd19dc",
   "metadata": {},
   "outputs": [
    {
     "data": {
      "text/plain": [
       "8"
      ]
     },
     "execution_count": 64,
     "metadata": {},
     "output_type": "execute_result"
    }
   ],
   "source": [
    "test(2,3)"
   ]
  },
  {
   "cell_type": "code",
   "execution_count": 66,
   "id": "c4e6a325-f93c-4f64-baf7-99babf7897e3",
   "metadata": {},
   "outputs": [],
   "source": [
    "a=lambda n,p : n**p    #function doesnt have any name lets give it as a"
   ]
  },
  {
   "cell_type": "code",
   "execution_count": 67,
   "id": "60c735b3-8cc9-40e8-954e-fd2131c95b14",
   "metadata": {},
   "outputs": [
    {
     "data": {
      "text/plain": [
       "8"
      ]
     },
     "execution_count": 67,
     "metadata": {},
     "output_type": "execute_result"
    }
   ],
   "source": [
    "a(2,3)"
   ]
  },
  {
   "cell_type": "markdown",
   "id": "72fc38d8-e3f2-4bd3-98ad-1dd3fc5beedc",
   "metadata": {},
   "source": [
    "#### Map,Reduce and Filter Function"
   ]
  },
  {
   "cell_type": "code",
   "execution_count": 1,
   "id": "4ef2f16c-6478-4e2f-8a5e-1f5f1e301bce",
   "metadata": {},
   "outputs": [],
   "source": [
    "l=[1,2,3,4,5,6]"
   ]
  },
  {
   "cell_type": "code",
   "execution_count": 4,
   "id": "6957daa0-8e03-4686-a429-702da1bd2b41",
   "metadata": {},
   "outputs": [],
   "source": [
    "def test(l):\n",
    "    l1=[]\n",
    "    for i in l:\n",
    "        l1.append(i**2)\n",
    "    return l1"
   ]
  },
  {
   "cell_type": "code",
   "execution_count": 6,
   "id": "494c221c-3021-4057-b92a-ad5e455b41d1",
   "metadata": {},
   "outputs": [
    {
     "data": {
      "text/plain": [
       "[1, 4, 9, 16, 25, 36]"
      ]
     },
     "execution_count": 6,
     "metadata": {},
     "output_type": "execute_result"
    }
   ],
   "source": [
    "test(l)"
   ]
  },
  {
   "cell_type": "code",
   "execution_count": 7,
   "id": "09d71063-08e8-4f17-8a13-9eb7c34ea8d0",
   "metadata": {},
   "outputs": [],
   "source": [
    "def sq(x):\n",
    "    return x**2"
   ]
  },
  {
   "cell_type": "code",
   "execution_count": 9,
   "id": "a4104e34-3913-4b75-b2ca-67f9601c79b5",
   "metadata": {},
   "outputs": [
    {
     "data": {
      "text/plain": [
       "[1, 4, 9, 16, 25, 36]"
      ]
     },
     "execution_count": 9,
     "metadata": {},
     "output_type": "execute_result"
    }
   ],
   "source": [
    "list(map(sq,l))  #maps function to iterable"
   ]
  },
  {
   "cell_type": "code",
   "execution_count": 12,
   "id": "f25f5a87-bb50-4a14-b878-b5d9b9d27a66",
   "metadata": {},
   "outputs": [
    {
     "data": {
      "text/plain": [
       "[1, 4, 9, 16, 25, 36]"
      ]
     },
     "execution_count": 12,
     "metadata": {},
     "output_type": "execute_result"
    }
   ],
   "source": [
    "list(map(lambda x:x**2,l))"
   ]
  },
  {
   "cell_type": "code",
   "execution_count": 13,
   "id": "9d337e57-3877-487b-9372-e5869ed52432",
   "metadata": {},
   "outputs": [
    {
     "data": {
      "text/plain": [
       "[21, 22, 23, 24, 25, 26]"
      ]
     },
     "execution_count": 13,
     "metadata": {},
     "output_type": "execute_result"
    }
   ],
   "source": [
    "list(map(lambda x:x+20,l))"
   ]
  },
  {
   "cell_type": "code",
   "execution_count": 14,
   "id": "12c5742a-16f5-4c2c-be9b-f9618a8680d0",
   "metadata": {},
   "outputs": [
    {
     "data": {
      "text/plain": [
       "['1', '2', '3', '4', '5', '6']"
      ]
     },
     "execution_count": 14,
     "metadata": {},
     "output_type": "execute_result"
    }
   ],
   "source": [
    "list(map(lambda x:str(x),l))"
   ]
  },
  {
   "cell_type": "code",
   "execution_count": 16,
   "id": "ec4937c0-10b8-461d-8ce3-b046354a4af8",
   "metadata": {},
   "outputs": [],
   "source": [
    "from functools import reduce"
   ]
  },
  {
   "cell_type": "code",
   "execution_count": 17,
   "id": "dd1ce200-9dad-45f7-9dc4-4b03893346f0",
   "metadata": {},
   "outputs": [],
   "source": [
    "l=[1,23,12,12,12]"
   ]
  },
  {
   "cell_type": "code",
   "execution_count": 18,
   "id": "c159bfbb-b697-47ed-823d-e20c574e4c89",
   "metadata": {},
   "outputs": [
    {
     "data": {
      "text/plain": [
       "60"
      ]
     },
     "execution_count": 18,
     "metadata": {},
     "output_type": "execute_result"
    }
   ],
   "source": [
    "reduce(lambda x,y :x+y,l)"
   ]
  },
  {
   "cell_type": "code",
   "execution_count": 21,
   "id": "44e28668-dce3-4bec-aa6f-4cff5ff35024",
   "metadata": {},
   "outputs": [
    {
     "data": {
      "text/plain": [
       "[1, 23]"
      ]
     },
     "execution_count": 21,
     "metadata": {},
     "output_type": "execute_result"
    }
   ],
   "source": [
    "#filter function\n",
    "list(filter(lambda x:x%2!=0,l))"
   ]
  },
  {
   "cell_type": "markdown",
   "id": "03e1c1c6-c4da-4188-a769-de175d0e50ae",
   "metadata": {},
   "source": [
    "## OOPs"
   ]
  },
  {
   "cell_type": "markdown",
   "id": "93e09597-f997-44f7-82b9-553c8a28efd8",
   "metadata": {},
   "source": [
    "#### Object Oriented Programming"
   ]
  },
  {
   "cell_type": "code",
   "execution_count": 22,
   "id": "6ec578d7-0141-4aeb-bf71-a47ba5a9e674",
   "metadata": {},
   "outputs": [],
   "source": [
    "a=1"
   ]
  },
  {
   "cell_type": "code",
   "execution_count": 23,
   "id": "3c4261f8-554b-4b6f-8b67-d6a7e23965c0",
   "metadata": {},
   "outputs": [
    {
     "name": "stdout",
     "output_type": "stream",
     "text": [
      "<class 'int'>\n"
     ]
    }
   ],
   "source": [
    "print(type(a))"
   ]
  },
  {
   "cell_type": "code",
   "execution_count": 24,
   "id": "bd26c11c-8ab9-4c20-9e93-910a8b688982",
   "metadata": {},
   "outputs": [],
   "source": [
    "# class -> 'int' classification of real world entity is class ex-> human,car,laptop\n",
    "# Code becomes more structured and readable\n"
   ]
  },
  {
   "cell_type": "code",
   "execution_count": 26,
   "id": "8977476c-d791-4ec0-819d-833499583d2b",
   "metadata": {},
   "outputs": [],
   "source": [
    "class test:\n",
    "    pass"
   ]
  },
  {
   "cell_type": "code",
   "execution_count": 27,
   "id": "12e2fe0f-89a9-4f4f-8c57-b0faae46ad49",
   "metadata": {},
   "outputs": [],
   "source": [
    "a= test()  # a is called as object of class ex human is class then male or female is object"
   ]
  },
  {
   "cell_type": "code",
   "execution_count": 29,
   "id": "da1543a4-243c-4014-944c-760f6ece3cad",
   "metadata": {},
   "outputs": [
    {
     "name": "stdout",
     "output_type": "stream",
     "text": [
      "<class '__main__.test'>\n"
     ]
    }
   ],
   "source": [
    "print(type(a))"
   ]
  },
  {
   "cell_type": "code",
   "execution_count": 33,
   "id": "9f63da92-c677-498e-a132-4f8678d40b1b",
   "metadata": {},
   "outputs": [],
   "source": [
    "class pwskills:\n",
    "    def welcome_msg(self):        #self binds class and function\n",
    "        print(\"welcome\")"
   ]
  },
  {
   "cell_type": "code",
   "execution_count": 34,
   "id": "851b523d-13c6-422b-b30f-8d928c9d9725",
   "metadata": {},
   "outputs": [],
   "source": [
    "rohan=pwskills()      # assigning object to class"
   ]
  },
  {
   "cell_type": "code",
   "execution_count": 35,
   "id": "3bd5ce81-13d3-449e-bb06-301a3d6480b5",
   "metadata": {},
   "outputs": [
    {
     "name": "stdout",
     "output_type": "stream",
     "text": [
      "welcome\n"
     ]
    }
   ],
   "source": [
    "rohan.welcome_msg()"
   ]
  },
  {
   "cell_type": "code",
   "execution_count": 37,
   "id": "2cf3d5a9-891c-4237-89c3-d527e854049e",
   "metadata": {},
   "outputs": [
    {
     "name": "stdout",
     "output_type": "stream",
     "text": [
      "welcome\n"
     ]
    }
   ],
   "source": [
    "sohan=pwskills()\n",
    "sohan.welcome_msg()"
   ]
  },
  {
   "cell_type": "code",
   "execution_count": 38,
   "id": "8078691f-851f-4f2f-92f1-552e6438e24d",
   "metadata": {},
   "outputs": [],
   "source": [
    "#constructer helps class to take data ex in above class if we want function to take data"
   ]
  },
  {
   "cell_type": "code",
   "execution_count": 40,
   "id": "3122dc0f-6115-49c5-9ffd-21fc904a0fe7",
   "metadata": {},
   "outputs": [],
   "source": [
    "class pwskills:\n",
    "    def __init__(self ,phone_number,email_id,student_id ):\n",
    "        self.phone_number=phone_number\n",
    "        self.email_id=email_id\n",
    "        self.student_id=student_id\n",
    "        \n",
    "    def return_student_details(self):\n",
    "        return self.phone_number,self.email_id,self.student_id"
   ]
  },
  {
   "cell_type": "code",
   "execution_count": 42,
   "id": "10bbb2a6-4278-48fa-b7e4-88e2e0c20158",
   "metadata": {},
   "outputs": [],
   "source": [
    "rohan=pwskills(12344543,\"rohan@gmail.com\",101)\n"
   ]
  },
  {
   "cell_type": "code",
   "execution_count": 43,
   "id": "1f8031c5-8e08-4868-8d2f-d34929fbb918",
   "metadata": {},
   "outputs": [
    {
     "data": {
      "text/plain": [
       "(12344543, 'rohan@gmail.com', 101)"
      ]
     },
     "execution_count": 43,
     "metadata": {},
     "output_type": "execute_result"
    }
   ],
   "source": [
    "rohan.return_student_details()"
   ]
  },
  {
   "cell_type": "code",
   "execution_count": 44,
   "id": "6190362a-bb4b-4338-8672-246d66e44565",
   "metadata": {},
   "outputs": [
    {
     "data": {
      "text/plain": [
       "'rohan@gmail.com'"
      ]
     },
     "execution_count": 44,
     "metadata": {},
     "output_type": "execute_result"
    }
   ],
   "source": [
    "rohan.email_id\n"
   ]
  },
  {
   "cell_type": "code",
   "execution_count": 45,
   "id": "e8297518-d8f7-4082-b9c8-13ea6c179d64",
   "metadata": {},
   "outputs": [
    {
     "data": {
      "text/plain": [
       "12344543"
      ]
     },
     "execution_count": 45,
     "metadata": {},
     "output_type": "execute_result"
    }
   ],
   "source": [
    "rohan.phone_number"
   ]
  },
  {
   "cell_type": "code",
   "execution_count": 46,
   "id": "e7b31a2a-e934-4f08-9ba6-33c1959a6ea0",
   "metadata": {},
   "outputs": [
    {
     "data": {
      "text/plain": [
       "101"
      ]
     },
     "execution_count": 46,
     "metadata": {},
     "output_type": "execute_result"
    }
   ],
   "source": [
    "rohan.student_id"
   ]
  },
  {
   "cell_type": "code",
   "execution_count": 47,
   "id": "9d737048-fa0f-48ff-858d-7f6e106da535",
   "metadata": {},
   "outputs": [],
   "source": [
    "sohan=pwskills(123123,\"sohan@gmail\",102)"
   ]
  },
  {
   "cell_type": "code",
   "execution_count": 48,
   "id": "46bee5ea-82ce-48b9-9a75-6fa2b6481597",
   "metadata": {},
   "outputs": [
    {
     "data": {
      "text/plain": [
       "'sohan@gmail'"
      ]
     },
     "execution_count": 48,
     "metadata": {},
     "output_type": "execute_result"
    }
   ],
   "source": [
    "sohan.email_id"
   ]
  },
  {
   "cell_type": "code",
   "execution_count": 50,
   "id": "ecdd2cf8-a9b2-44f4-abf3-13836d657828",
   "metadata": {},
   "outputs": [
    {
     "data": {
      "text/plain": [
       "(123123, 'sohan@gmail', 102)"
      ]
     },
     "execution_count": 50,
     "metadata": {},
     "output_type": "execute_result"
    }
   ],
   "source": [
    "sohan.return_student_details()"
   ]
  },
  {
   "cell_type": "code",
   "execution_count": 51,
   "id": "2fc92fde-7ee7-44c6-8402-1cce8f0e037f",
   "metadata": {},
   "outputs": [],
   "source": [
    "# i am able to pass data to class\n",
    "# i am able to access data\n",
    "# function is conneted using "
   ]
  },
  {
   "cell_type": "code",
   "execution_count": 52,
   "id": "bed38bf1-6c71-4949-b6a5-12f846e5035c",
   "metadata": {},
   "outputs": [],
   "source": [
    "class pwskills2:\n",
    "    def __init__(dev ,phone_number,email_id,student_id ):\n",
    "        dev.phone_number=phone_number\n",
    "        dev.email_id=email_id\n",
    "        dev.student_id=student_id\n",
    "        \n",
    "    def return_student_details(dev):\n",
    "        return dev.phone_number,self.email_id,self.student_id"
   ]
  },
  {
   "cell_type": "code",
   "execution_count": 53,
   "id": "c4ac5081-2418-4f17-b1c6-153fb5d9cdf6",
   "metadata": {},
   "outputs": [],
   "source": [
    "mohan=pwskills2(123,\"dev\",103)"
   ]
  },
  {
   "cell_type": "code",
   "execution_count": 54,
   "id": "e71458b8-6c1a-4e59-af20-b3164a23055b",
   "metadata": {},
   "outputs": [
    {
     "data": {
      "text/plain": [
       "'dev'"
      ]
     },
     "execution_count": 54,
     "metadata": {},
     "output_type": "execute_result"
    }
   ],
   "source": [
    "mohan.email_id"
   ]
  },
  {
   "cell_type": "code",
   "execution_count": 55,
   "id": "7f0f1c7b-c9a2-42ca-8f98-147fd406a85a",
   "metadata": {},
   "outputs": [],
   "source": [
    "# self is not a keyword its just a reference"
   ]
  },
  {
   "cell_type": "code",
   "execution_count": 56,
   "id": "2e6b7001-02c4-43f0-a06b-6d8982630364",
   "metadata": {},
   "outputs": [],
   "source": [
    "class pwskills3:\n",
    "    def __init__(dev ,phone_number,email_id,student_id ):\n",
    "        dev.phone_number1=phone_number         #here change to understand which pno. is used\n",
    "        dev.email_id=email_id\n",
    "        dev.student_id=student_id\n",
    "        \n",
    "    def return_student_details(dev):\n",
    "        return dev.phone_number,self.email_id,self.student_id"
   ]
  },
  {
   "cell_type": "code",
   "execution_count": 57,
   "id": "46fcea8e-4f06-42d7-8c50-7ca9311b2b4c",
   "metadata": {},
   "outputs": [],
   "source": [
    "mohan=pwskills3(123,\"dev\",103)"
   ]
  },
  {
   "cell_type": "code",
   "execution_count": 58,
   "id": "76a483aa-297b-4325-bb3b-18672de8a9c4",
   "metadata": {},
   "outputs": [
    {
     "ename": "AttributeError",
     "evalue": "'pwskills3' object has no attribute 'phone_number'",
     "output_type": "error",
     "traceback": [
      "\u001b[0;31m---------------------------------------------------------------------------\u001b[0m",
      "\u001b[0;31mAttributeError\u001b[0m                            Traceback (most recent call last)",
      "Cell \u001b[0;32mIn[58], line 1\u001b[0m\n\u001b[0;32m----> 1\u001b[0m \u001b[43mmohan\u001b[49m\u001b[38;5;241;43m.\u001b[39;49m\u001b[43mphone_number\u001b[49m\n",
      "\u001b[0;31mAttributeError\u001b[0m: 'pwskills3' object has no attribute 'phone_number'"
     ]
    }
   ],
   "source": [
    "mohan.phone_number"
   ]
  },
  {
   "cell_type": "code",
   "execution_count": 59,
   "id": "018931ca-f0ca-49a2-8543-3431c364fb84",
   "metadata": {},
   "outputs": [
    {
     "data": {
      "text/plain": [
       "123"
      ]
     },
     "execution_count": 59,
     "metadata": {},
     "output_type": "execute_result"
    }
   ],
   "source": [
    "mohan.phone_number1"
   ]
  },
  {
   "cell_type": "markdown",
   "id": "1e0fb757-2f31-4691-9dc3-335c78c1778b",
   "metadata": {},
   "source": [
    "#### Polymorphism"
   ]
  },
  {
   "cell_type": "code",
   "execution_count": 1,
   "id": "287d5934-5f3c-4f35-94ee-8cba5e19213d",
   "metadata": {},
   "outputs": [],
   "source": [
    "def test(a,b):\n",
    "    return a+b"
   ]
  },
  {
   "cell_type": "code",
   "execution_count": 2,
   "id": "6f131551-af71-44c5-9336-75e1e900ba8c",
   "metadata": {},
   "outputs": [
    {
     "data": {
      "text/plain": [
       "9"
      ]
     },
     "execution_count": 2,
     "metadata": {},
     "output_type": "execute_result"
    }
   ],
   "source": [
    "test(4,5)"
   ]
  },
  {
   "cell_type": "code",
   "execution_count": 4,
   "id": "d989f05b-72ca-4385-8bc5-0c781d2a3db6",
   "metadata": {},
   "outputs": [
    {
     "data": {
      "text/plain": [
       "'dev haral'"
      ]
     },
     "execution_count": 4,
     "metadata": {},
     "output_type": "execute_result"
    }
   ],
   "source": [
    "test(\"dev \",\"haral\")"
   ]
  },
  {
   "cell_type": "code",
   "execution_count": 5,
   "id": "f9488c0b-e1a3-48d6-9986-b51b563c146b",
   "metadata": {},
   "outputs": [
    {
     "data": {
      "text/plain": [
       "[1, 2, 34, 34, 1, 2, 3, 4]"
      ]
     },
     "execution_count": 5,
     "metadata": {},
     "output_type": "execute_result"
    }
   ],
   "source": [
    "test([1,2,34,34],[1,2,3,4])"
   ]
  },
  {
   "cell_type": "code",
   "execution_count": 6,
   "id": "704f5ffa-ea40-4264-8603-6765e6dba865",
   "metadata": {},
   "outputs": [],
   "source": [
    "class data_science:\n",
    "    def syllabus(self):\n",
    "        print(\"this is my method for data science \")"
   ]
  },
  {
   "cell_type": "code",
   "execution_count": 7,
   "id": "7c7fb35b-ff94-41ab-9e90-56fea9df0721",
   "metadata": {},
   "outputs": [],
   "source": [
    "class web_dev:\n",
    "    def syllabus(self):\n",
    "        print(\"this is method for web dev\")\n",
    "    "
   ]
  },
  {
   "cell_type": "code",
   "execution_count": 8,
   "id": "1c49d853-1f55-4ae2-9e04-0f2f0aa50543",
   "metadata": {},
   "outputs": [],
   "source": [
    "def class_parcer(class_obj):\n",
    "    for i in class_obj:\n",
    "        i.syllabus()\n",
    "    "
   ]
  },
  {
   "cell_type": "code",
   "execution_count": 10,
   "id": "4c5fff51-1c0c-44e9-911c-462a1a2dd558",
   "metadata": {},
   "outputs": [],
   "source": [
    "obj_data_science=data_science()"
   ]
  },
  {
   "cell_type": "code",
   "execution_count": 11,
   "id": "89bd4b45-b5a3-4792-a498-e80eedc3419d",
   "metadata": {},
   "outputs": [],
   "source": [
    "obj_web_dev=web_dev()"
   ]
  },
  {
   "cell_type": "code",
   "execution_count": 13,
   "id": "ec9c89e2-bf14-4b85-bd3a-c8cdf0f99225",
   "metadata": {},
   "outputs": [],
   "source": [
    "class_obj=[obj_data_science,obj_web_dev]"
   ]
  },
  {
   "cell_type": "code",
   "execution_count": 14,
   "id": "815a1276-d61d-4d0e-8f2d-91b623da7af4",
   "metadata": {},
   "outputs": [
    {
     "name": "stdout",
     "output_type": "stream",
     "text": [
      "this is my method for data science \n",
      "this is method for web dev\n"
     ]
    }
   ],
   "source": [
    "class_parcer(class_obj)"
   ]
  },
  {
   "cell_type": "markdown",
   "id": "ed2f62f5-1f67-4cb4-bbb5-57f3a1ca8dfd",
   "metadata": {},
   "source": [
    "#### Encapsulation"
   ]
  },
  {
   "cell_type": "code",
   "execution_count": 1,
   "id": "37fa6aa2-ab53-46e8-b460-a3ba4bf163c8",
   "metadata": {},
   "outputs": [],
   "source": [
    "class test:\n",
    "    def __init__(self,a,b):\n",
    "        self.a=a\n",
    "        self.b=b"
   ]
  },
  {
   "cell_type": "code",
   "execution_count": 2,
   "id": "ce78a241-b863-4138-8d51-cf08f051282e",
   "metadata": {},
   "outputs": [],
   "source": [
    "t=test(45,46)"
   ]
  },
  {
   "cell_type": "code",
   "execution_count": 3,
   "id": "2fcafda8-b17b-4e81-b306-2c159c9c40d9",
   "metadata": {},
   "outputs": [
    {
     "data": {
      "text/plain": [
       "45"
      ]
     },
     "execution_count": 3,
     "metadata": {},
     "output_type": "execute_result"
    }
   ],
   "source": [
    "t.a"
   ]
  },
  {
   "cell_type": "code",
   "execution_count": 4,
   "id": "e3e0a3f6-3c25-40f1-a059-0bb31bbacd78",
   "metadata": {},
   "outputs": [],
   "source": [
    "t.a=1233"
   ]
  },
  {
   "cell_type": "code",
   "execution_count": 5,
   "id": "bfa53dd6-391f-4f4a-bb75-1abfda8c1a47",
   "metadata": {},
   "outputs": [
    {
     "data": {
      "text/plain": [
       "1233"
      ]
     },
     "execution_count": 5,
     "metadata": {},
     "output_type": "execute_result"
    }
   ],
   "source": [
    "t.a"
   ]
  },
  {
   "cell_type": "code",
   "execution_count": 6,
   "id": "844e3edb-4f66-4871-b974-f116e95cc6c3",
   "metadata": {},
   "outputs": [],
   "source": [
    "class test:\n",
    "    def __init__(self,a,b):\n",
    "        self.a=a\n",
    "        self.b=b\n",
    "    def return_dev(*args):\n",
    "        return \"dev\""
   ]
  },
  {
   "cell_type": "code",
   "execution_count": 8,
   "id": "70e814a9-b607-470f-908e-a0bfc164adf9",
   "metadata": {},
   "outputs": [],
   "source": [
    "alpha=test(10,20)"
   ]
  },
  {
   "cell_type": "code",
   "execution_count": 12,
   "id": "6ddd7de1-ff21-4f19-89b3-ad37c7cfd8c3",
   "metadata": {},
   "outputs": [
    {
     "data": {
      "text/plain": [
       "'dev'"
      ]
     },
     "execution_count": 12,
     "metadata": {},
     "output_type": "execute_result"
    }
   ],
   "source": [
    "alpha.return_dev(1,2,3,3)"
   ]
  },
  {
   "cell_type": "code",
   "execution_count": 24,
   "id": "2460c824-4589-4c37-85fe-3e6f954a54a3",
   "metadata": {},
   "outputs": [],
   "source": [
    "class car:\n",
    "    def __init__(self,year,make,model,speed):\n",
    "        self.__year=year                          ##using __ make variable private cannot be accessed\n",
    "        self.__make=make                          #this hiding is called enca.\n",
    "        self.__model=model\n",
    "        self.__speed=speed\n",
    "        \n",
    "    def set_speed(self,speed):\n",
    "        self.__speed=0 if speed< 0 else speed\n",
    "        \n",
    "    def get_speed(self):\n",
    "        return self.__speed\n",
    "        "
   ]
  },
  {
   "cell_type": "code",
   "execution_count": 25,
   "id": "13a362c2-220e-4d20-b8b6-f93eff0bbd23",
   "metadata": {},
   "outputs": [],
   "source": [
    "obj_Car=car(2012,\"car\",\"innova\",12)"
   ]
  },
  {
   "cell_type": "code",
   "execution_count": 15,
   "id": "a0e7e7bc-bce4-40a1-96e8-32b99cb03712",
   "metadata": {},
   "outputs": [
    {
     "ename": "AttributeError",
     "evalue": "'car' object has no attribute '__year'",
     "output_type": "error",
     "traceback": [
      "\u001b[0;31m---------------------------------------------------------------------------\u001b[0m",
      "\u001b[0;31mAttributeError\u001b[0m                            Traceback (most recent call last)",
      "Cell \u001b[0;32mIn[15], line 1\u001b[0m\n\u001b[0;32m----> 1\u001b[0m \u001b[43mobj_Car\u001b[49m\u001b[38;5;241;43m.\u001b[39;49m\u001b[43m__year\u001b[49m\n",
      "\u001b[0;31mAttributeError\u001b[0m: 'car' object has no attribute '__year'"
     ]
    }
   ],
   "source": [
    "obj_Car.__year   #since variable is private"
   ]
  },
  {
   "cell_type": "code",
   "execution_count": 17,
   "id": "e5e9a6da-00de-4410-9870-47412f9cca5f",
   "metadata": {},
   "outputs": [],
   "source": [
    "obj_Car._car__year=2023"
   ]
  },
  {
   "cell_type": "code",
   "execution_count": 18,
   "id": "b6e3ace3-6b3a-45ed-8dc8-6abe3b1dd99e",
   "metadata": {},
   "outputs": [
    {
     "data": {
      "text/plain": [
       "2023"
      ]
     },
     "execution_count": 18,
     "metadata": {},
     "output_type": "execute_result"
    }
   ],
   "source": [
    "obj_Car._car__year"
   ]
  },
  {
   "cell_type": "code",
   "execution_count": 22,
   "id": "e2ebb9f5-d472-4846-907a-71448416ab82",
   "metadata": {},
   "outputs": [],
   "source": [
    "obj_Car.set_speed(1234)"
   ]
  },
  {
   "cell_type": "code",
   "execution_count": 23,
   "id": "a293f407-408b-44c7-a0f9-c8901d4acb66",
   "metadata": {},
   "outputs": [
    {
     "data": {
      "text/plain": [
       "1234"
      ]
     },
     "execution_count": 23,
     "metadata": {},
     "output_type": "execute_result"
    }
   ],
   "source": [
    "obj_Car._car__speed"
   ]
  },
  {
   "cell_type": "code",
   "execution_count": 27,
   "id": "eed4eb0f-a2e0-48ad-a6ec-696b62407550",
   "metadata": {},
   "outputs": [
    {
     "data": {
      "text/plain": [
       "12"
      ]
     },
     "execution_count": 27,
     "metadata": {},
     "output_type": "execute_result"
    }
   ],
   "source": [
    "obj_Car.get_speed()"
   ]
  },
  {
   "cell_type": "code",
   "execution_count": 28,
   "id": "2da7d8fc-4d32-4e46-8143-b9a90fdb433a",
   "metadata": {},
   "outputs": [],
   "source": [
    "# this is perfect example for private and public variable (encapualation)\n",
    "class bank_account:\n",
    "    def __init__(self,balance):\n",
    "        self.__balance=balance\n",
    "        \n",
    "    def deposit(self,amount):\n",
    "        self.__balance=self.__balance+amount\n",
    "        \n",
    "    def withdraw(self,amount):\n",
    "        if self.__balance>=amount:\n",
    "            self.__balance=self.__balance-amount\n",
    "            return True\n",
    "        else:\n",
    "            return False\n",
    "        \n",
    "    def get_balance(self):\n",
    "        return self.__balance"
   ]
  },
  {
   "cell_type": "code",
   "execution_count": 29,
   "id": "1c5af296-fdae-4da8-bbf7-5507f60ea7a4",
   "metadata": {},
   "outputs": [],
   "source": [
    "obj_bank_account=bank_account(1000)"
   ]
  },
  {
   "cell_type": "code",
   "execution_count": 32,
   "id": "d36b2354-12eb-49c4-8c97-ed8fd0b82ffb",
   "metadata": {},
   "outputs": [],
   "source": [
    "obj_bank_account.deposit(1000)"
   ]
  },
  {
   "cell_type": "code",
   "execution_count": 33,
   "id": "cb60204f-fd9d-4aec-b205-b568bd06cd7c",
   "metadata": {},
   "outputs": [
    {
     "data": {
      "text/plain": [
       "2000"
      ]
     },
     "execution_count": 33,
     "metadata": {},
     "output_type": "execute_result"
    }
   ],
   "source": [
    "obj_bank_account.get_balance()"
   ]
  },
  {
   "cell_type": "code",
   "execution_count": 35,
   "id": "e6bda11e-c68c-4c71-ab5d-1c622ef5b0c3",
   "metadata": {},
   "outputs": [
    {
     "data": {
      "text/plain": [
       "True"
      ]
     },
     "execution_count": 35,
     "metadata": {},
     "output_type": "execute_result"
    }
   ],
   "source": [
    "obj_bank_account.withdraw(1500)"
   ]
  },
  {
   "cell_type": "code",
   "execution_count": 36,
   "id": "3681cec9-feb6-47d9-a238-3147d9d74ca0",
   "metadata": {},
   "outputs": [
    {
     "data": {
      "text/plain": [
       "500"
      ]
     },
     "execution_count": 36,
     "metadata": {},
     "output_type": "execute_result"
    }
   ],
   "source": [
    "obj_bank_account.get_balance()"
   ]
  },
  {
   "cell_type": "markdown",
   "id": "2b09eee3-a4d2-45fe-85b7-98179c54aec0",
   "metadata": {},
   "source": [
    "#### Inheritance"
   ]
  },
  {
   "cell_type": "code",
   "execution_count": 37,
   "id": "9c24a50e-71c0-48e8-ae01-82e71d8793a4",
   "metadata": {},
   "outputs": [],
   "source": [
    "class parent:\n",
    "    \n",
    "    def test_parent(test):\n",
    "        print(\"this is parent class\")"
   ]
  },
  {
   "cell_type": "code",
   "execution_count": 38,
   "id": "149da601-4418-4cb2-8339-769eea5553dc",
   "metadata": {},
   "outputs": [],
   "source": [
    "class child(parent):\n",
    "    pass"
   ]
  },
  {
   "cell_type": "code",
   "execution_count": 39,
   "id": "c86fa1b5-a6a4-4abe-96e1-04806b67b84b",
   "metadata": {},
   "outputs": [],
   "source": [
    "child_obj=child()"
   ]
  },
  {
   "cell_type": "code",
   "execution_count": 40,
   "id": "bb21cf51-241b-4c31-bad9-a7440e3fa5d2",
   "metadata": {},
   "outputs": [
    {
     "name": "stdout",
     "output_type": "stream",
     "text": [
      "this is parent class\n"
     ]
    }
   ],
   "source": [
    "child_obj.test_parent()"
   ]
  },
  {
   "cell_type": "code",
   "execution_count": 41,
   "id": "ab1c80ef-f2d4-47e3-a2dd-385fc97ad111",
   "metadata": {},
   "outputs": [],
   "source": [
    "## Child inherited by parent "
   ]
  },
  {
   "cell_type": "code",
   "execution_count": 42,
   "id": "75ab647a-f9c2-406e-b7ee-ebb758f9691b",
   "metadata": {},
   "outputs": [],
   "source": [
    "# Multilabel Inheritance\n",
    "\n",
    "class class1:\n",
    "    def test_class1(self):\n",
    "        print(\"class1\")"
   ]
  },
  {
   "cell_type": "code",
   "execution_count": 43,
   "id": "6c2e3a61-e819-4d93-862a-312de06e064c",
   "metadata": {},
   "outputs": [],
   "source": [
    "class class2(class1):\n",
    "    def test_class2(self):\n",
    "        print(\"class2\")"
   ]
  },
  {
   "cell_type": "code",
   "execution_count": 44,
   "id": "5ea91cee-9472-4b96-a52d-c25c4b8509c3",
   "metadata": {},
   "outputs": [],
   "source": [
    "class class3(class2):\n",
    "    def test_class3(self):\n",
    "        print(\"class3\")"
   ]
  },
  {
   "cell_type": "code",
   "execution_count": 45,
   "id": "fec558b9-4eed-40c3-b980-ac82378d5e89",
   "metadata": {},
   "outputs": [],
   "source": [
    "obj_class3=class3()"
   ]
  },
  {
   "cell_type": "code",
   "execution_count": 46,
   "id": "a3f3c279-b62d-4353-b203-f3b9e9802fdb",
   "metadata": {},
   "outputs": [
    {
     "name": "stdout",
     "output_type": "stream",
     "text": [
      "class1\n"
     ]
    }
   ],
   "source": [
    "obj_class3.test_class1()"
   ]
  },
  {
   "cell_type": "code",
   "execution_count": 47,
   "id": "a48716e8-1dbf-49e1-ab36-4eac44d88888",
   "metadata": {},
   "outputs": [
    {
     "name": "stdout",
     "output_type": "stream",
     "text": [
      "class2\n"
     ]
    }
   ],
   "source": [
    "obj_class3.test_class2()"
   ]
  },
  {
   "cell_type": "code",
   "execution_count": 48,
   "id": "c88e9452-7ab8-441b-b007-0794b8d3217c",
   "metadata": {},
   "outputs": [],
   "source": [
    "# Multiple Inheitance\n",
    "\n",
    "class class1:\n",
    "    def test_class1(self):\n",
    "        print(\"class1\")"
   ]
  },
  {
   "cell_type": "code",
   "execution_count": 49,
   "id": "1f9f3760-0c0f-443d-b3f9-c13052a52ca0",
   "metadata": {},
   "outputs": [],
   "source": [
    "class class2:\n",
    "    def test_class2(self):\n",
    "        print(\"class2\")"
   ]
  },
  {
   "cell_type": "code",
   "execution_count": 50,
   "id": "92191b23-44d2-440c-8a09-4fcdc7311a79",
   "metadata": {},
   "outputs": [],
   "source": [
    "class class3(class1,class2):\n",
    "    pass"
   ]
  },
  {
   "cell_type": "code",
   "execution_count": 51,
   "id": "80a02c5c-d1a8-45b4-b901-27d2c41dd8ad",
   "metadata": {},
   "outputs": [],
   "source": [
    "obj_class3=class3()"
   ]
  },
  {
   "cell_type": "code",
   "execution_count": 53,
   "id": "dfd8c1ba-9d2b-4b1f-aa76-b90097477ff3",
   "metadata": {},
   "outputs": [
    {
     "name": "stdout",
     "output_type": "stream",
     "text": [
      "class2\n"
     ]
    }
   ],
   "source": [
    "obj_class3.test_class2()"
   ]
  },
  {
   "cell_type": "code",
   "execution_count": 54,
   "id": "a2f84955-97fb-4630-8648-4d9736914aa8",
   "metadata": {},
   "outputs": [
    {
     "name": "stdout",
     "output_type": "stream",
     "text": [
      "class2\n"
     ]
    }
   ],
   "source": [
    "obj_class3.test_class2()"
   ]
  },
  {
   "cell_type": "markdown",
   "id": "23ec0bca-0712-4323-84e8-7e3614777856",
   "metadata": {},
   "source": [
    "#### Decorators"
   ]
  },
  {
   "cell_type": "code",
   "execution_count": 55,
   "id": "4a3bfa46-5571-4d41-a34e-e62f6cfb8b83",
   "metadata": {},
   "outputs": [],
   "source": [
    "def test():\n",
    "    print(4+5)"
   ]
  },
  {
   "cell_type": "code",
   "execution_count": 56,
   "id": "3a2888ac-fdd5-4bad-a81c-4265220c03ec",
   "metadata": {},
   "outputs": [
    {
     "name": "stdout",
     "output_type": "stream",
     "text": [
      "9\n"
     ]
    }
   ],
   "source": [
    "test()"
   ]
  },
  {
   "cell_type": "code",
   "execution_count": 57,
   "id": "1eadaa8b-05ee-4f70-80c9-eb7a6bdf57b4",
   "metadata": {},
   "outputs": [],
   "source": [
    "def deco(func):\n",
    "    def inner_deco():\n",
    "        print(\"dev\")\n",
    "        func()\n",
    "        print(\"haral\")\n",
    "    return inner_deco"
   ]
  },
  {
   "cell_type": "code",
   "execution_count": 58,
   "id": "934a79d6-2c57-466d-89b4-180d41438b9c",
   "metadata": {},
   "outputs": [],
   "source": [
    "@deco\n",
    "def test2():\n",
    "    print(4+5)"
   ]
  },
  {
   "cell_type": "code",
   "execution_count": 59,
   "id": "571ac5f7-6dbb-4ed8-b011-a5017d4061ae",
   "metadata": {},
   "outputs": [
    {
     "name": "stdout",
     "output_type": "stream",
     "text": [
      "dev\n",
      "9\n",
      "haral\n"
     ]
    }
   ],
   "source": [
    "test2()"
   ]
  },
  {
   "cell_type": "markdown",
   "id": "30f857bb-1e98-4b63-adce-ddf39e30651f",
   "metadata": {},
   "source": [
    "#### Class Methods"
   ]
  },
  {
   "cell_type": "code",
   "execution_count": 1,
   "id": "6e44863c-5768-4fbc-be3f-902508cacead",
   "metadata": {},
   "outputs": [],
   "source": [
    "class pwskills:\n",
    "    def __init__(self,name,email):\n",
    "        \n",
    "        self.name=name\n",
    "        self.email=email\n",
    "    \n",
    "    def student_details(self):\n",
    "        print(self.email,self.name)"
   ]
  },
  {
   "cell_type": "code",
   "execution_count": 2,
   "id": "48e98cb2-7404-4e73-8aa6-07609e8dbc7f",
   "metadata": {},
   "outputs": [],
   "source": [
    "pw =pwskills(\"dev\",\"gmail.\")"
   ]
  },
  {
   "cell_type": "code",
   "execution_count": 3,
   "id": "6f2b3cb8-e9bb-4e9f-b7cf-61d92a09d10f",
   "metadata": {},
   "outputs": [
    {
     "data": {
      "text/plain": [
       "'gmail.'"
      ]
     },
     "execution_count": 3,
     "metadata": {},
     "output_type": "execute_result"
    }
   ],
   "source": [
    "pw.email"
   ]
  },
  {
   "cell_type": "code",
   "execution_count": 5,
   "id": "bdc64452-c960-4247-a414-59457a1a10ec",
   "metadata": {},
   "outputs": [],
   "source": [
    "class pwskills2:\n",
    "    def __init__(self,name,email):\n",
    "        \n",
    "        self.name=name\n",
    "        self.email=email\n",
    "    @classmethod    \n",
    "    def details(cls,name,email):\n",
    "        return cls(name,email)\n",
    "    \n",
    "    def student_details(self):\n",
    "        print(self.email,self.name)"
   ]
  },
  {
   "cell_type": "code",
   "execution_count": 8,
   "id": "7c8d4842-e749-4774-9b5e-7ab3a9789b26",
   "metadata": {},
   "outputs": [],
   "source": [
    "pw1=pwskills2.details(\"dev\",\"gmail\")"
   ]
  },
  {
   "cell_type": "code",
   "execution_count": 9,
   "id": "6f346eaf-57ff-4640-89bc-b2a823d245b3",
   "metadata": {},
   "outputs": [
    {
     "data": {
      "text/plain": [
       "'dev'"
      ]
     },
     "execution_count": 9,
     "metadata": {},
     "output_type": "execute_result"
    }
   ],
   "source": [
    "pw1.name"
   ]
  },
  {
   "cell_type": "code",
   "execution_count": 23,
   "id": "4bc2679b-313c-49d5-9a98-c91e56379e89",
   "metadata": {},
   "outputs": [],
   "source": [
    "class pwskills3:\n",
    "    mobile_number=123456789\n",
    "    \n",
    "    def __init__(self,name,email):\n",
    "        \n",
    "        self.name=name\n",
    "        self.email=email\n",
    "        \n",
    "    @classmethod\n",
    "    def change_number(cls,mobile):\n",
    "        pwskills3.mobile_number = mobile\n",
    "    @classmethod    \n",
    "    def details(cls,name,email):\n",
    "        return cls(name,email)\n",
    "    \n",
    "    def student_details(self):\n",
    "        print(self.email,self.name,pwskills3.mobile_number)"
   ]
  },
  {
   "cell_type": "code",
   "execution_count": 24,
   "id": "d9b4d063-2161-4bb1-a313-6609eab51a80",
   "metadata": {},
   "outputs": [
    {
     "data": {
      "text/plain": [
       "123456789"
      ]
     },
     "execution_count": 24,
     "metadata": {},
     "output_type": "execute_result"
    }
   ],
   "source": [
    "pwskills3.mobile_number"
   ]
  },
  {
   "cell_type": "code",
   "execution_count": 26,
   "id": "36c38dd0-b6aa-44dd-ba87-dd568d425f72",
   "metadata": {},
   "outputs": [],
   "source": [
    "pwskills3.change_number(94587516454)"
   ]
  },
  {
   "cell_type": "code",
   "execution_count": 27,
   "id": "21aa0937-0778-4e4c-bb29-d63d1a9e9408",
   "metadata": {},
   "outputs": [
    {
     "data": {
      "text/plain": [
       "94587516454"
      ]
     },
     "execution_count": 27,
     "metadata": {},
     "output_type": "execute_result"
    }
   ],
   "source": [
    "pwskills3.mobile_number"
   ]
  },
  {
   "cell_type": "code",
   "execution_count": 21,
   "id": "c67ab741-30ab-4809-a7b9-ec55f81924f9",
   "metadata": {},
   "outputs": [],
   "source": [
    "pww= pwskills3.details(\"dev\",\"gmail\")"
   ]
  },
  {
   "cell_type": "code",
   "execution_count": 22,
   "id": "57397694-769c-4014-923f-9180eb8607d4",
   "metadata": {},
   "outputs": [
    {
     "name": "stdout",
     "output_type": "stream",
     "text": [
      "gmail dev 123456789\n"
     ]
    }
   ],
   "source": [
    "pww.student_details()"
   ]
  },
  {
   "cell_type": "code",
   "execution_count": 15,
   "id": "0b857692-1c22-4911-bdc8-08dd66ef0589",
   "metadata": {},
   "outputs": [],
   "source": [
    "pw1_obj=pwskills3(\"dev\",\"gmailss\")"
   ]
  },
  {
   "cell_type": "code",
   "execution_count": 16,
   "id": "9a0cf3d2-4291-48fb-91a3-bf6e0b07528d",
   "metadata": {},
   "outputs": [
    {
     "name": "stdout",
     "output_type": "stream",
     "text": [
      "gmailss dev 123456789\n"
     ]
    }
   ],
   "source": [
    "pw1_obj.student_details()"
   ]
  },
  {
   "cell_type": "code",
   "execution_count": 28,
   "id": "11ac9c39-c925-4e7e-883e-3f4c525156f6",
   "metadata": {},
   "outputs": [],
   "source": [
    "class pwskills4:\n",
    "    mobile_number=123456789\n",
    "    \n",
    "    def __init__(self,name,email):\n",
    "        \n",
    "        self.name=name\n",
    "        self.email=email\n",
    "        \n",
    "    @classmethod\n",
    "    def change_number(cls,mobile):\n",
    "        pwskills3.mobile_number = mobile\n",
    "    @classmethod    \n",
    "    def details(cls,name,email):\n",
    "        return cls(name,email)\n",
    "    \n",
    "    def student_details(self):\n",
    "        print(self.email,self.name,pwskills3.mobile_number)"
   ]
  },
  {
   "cell_type": "code",
   "execution_count": 29,
   "id": "700119d1-d62b-4bb7-82ef-3756694a54ef",
   "metadata": {},
   "outputs": [],
   "source": [
    "#adding external function to class using classmethod technique\n",
    "def course_details(cls, course_name):\n",
    "    print(\"course datils:\",course_name)"
   ]
  },
  {
   "cell_type": "code",
   "execution_count": 30,
   "id": "9b999905-569d-48b9-978c-153ca53b3a12",
   "metadata": {},
   "outputs": [],
   "source": [
    "pwskills4.course_details=classmethod(course_details)"
   ]
  },
  {
   "cell_type": "code",
   "execution_count": 31,
   "id": "e39abfb9-ce32-4f37-956d-32a461f58ff1",
   "metadata": {},
   "outputs": [
    {
     "name": "stdout",
     "output_type": "stream",
     "text": [
      "course datils: DSM\n"
     ]
    }
   ],
   "source": [
    "pwskills4.course_details(\"DSM\")"
   ]
  },
  {
   "cell_type": "code",
   "execution_count": 32,
   "id": "32df5557-4ae7-455a-88f2-4ed40580011d",
   "metadata": {},
   "outputs": [],
   "source": [
    "#delete \n",
    "del pwskills3.change_number"
   ]
  },
  {
   "cell_type": "code",
   "execution_count": 33,
   "id": "61038e52-bae8-4c7b-a9a1-591667bfcc87",
   "metadata": {},
   "outputs": [
    {
     "ename": "AttributeError",
     "evalue": "type object 'pwskills3' has no attribute 'change_number'",
     "output_type": "error",
     "traceback": [
      "\u001b[0;31m---------------------------------------------------------------------------\u001b[0m",
      "\u001b[0;31mAttributeError\u001b[0m                            Traceback (most recent call last)",
      "Cell \u001b[0;32mIn[33], line 1\u001b[0m\n\u001b[0;32m----> 1\u001b[0m \u001b[43mpwskills3\u001b[49m\u001b[38;5;241;43m.\u001b[39;49m\u001b[43mchange_number\u001b[49m\n",
      "\u001b[0;31mAttributeError\u001b[0m: type object 'pwskills3' has no attribute 'change_number'"
     ]
    }
   ],
   "source": [
    "pwskills3.change_number"
   ]
  },
  {
   "cell_type": "markdown",
   "id": "ed4b8cac",
   "metadata": {},
   "source": [
    "**kwargs:\n",
    "\n",
    "It allows a function to accept a variable number of keyword arguments (i.e., arguments passed in the form of key-value pairs).\n",
    "When you prefix a parameter with two asterisks (**) in a function definition, it collects all the keyword arguments into a dictionary where the keys are the argument names and the values are their corresponding values.\n",
    "The name kwargs is a convention, but like with *args, you can name it differently if you prefer."
   ]
  },
  {
   "cell_type": "markdown",
   "id": "d379b3f7",
   "metadata": {},
   "source": [
    "*args:\n",
    "\n",
    "It allows a function to accept a variable number of positional arguments.\n",
    "When you prefix a parameter with an asterisk (*) in a function definition, it collects all the positional arguments into a tuple.\n",
    "The name args is a convention, but you can name it anything you want, as long as the asterisk precedes it."
   ]
  },
  {
   "cell_type": "code",
   "execution_count": 1,
   "id": "33104881",
   "metadata": {},
   "outputs": [
    {
     "ename": "NameError",
     "evalue": "name 'SuperClass' is not defined",
     "output_type": "error",
     "traceback": [
      "\u001b[1;31m---------------------------------------------------------------------------\u001b[0m",
      "\u001b[1;31mNameError\u001b[0m                                 Traceback (most recent call last)",
      "Cell \u001b[1;32mIn[1], line 1\u001b[0m\n\u001b[1;32m----> 1\u001b[0m \u001b[38;5;28;01mclass\u001b[39;00m \u001b[38;5;21;01mSubClass\u001b[39;00m(\u001b[43mSuperClass\u001b[49m):\n\u001b[0;32m      2\u001b[0m     \u001b[38;5;28;01mdef\u001b[39;00m \u001b[38;5;21m__init__\u001b[39m(\u001b[38;5;28mself\u001b[39m, arg1, arg2):\n\u001b[0;32m      3\u001b[0m         \u001b[38;5;28msuper\u001b[39m()\u001b[38;5;241m.\u001b[39m\u001b[38;5;21m__init__\u001b[39m(arg1)\n",
      "\u001b[1;31mNameError\u001b[0m: name 'SuperClass' is not defined"
     ]
    }
   ],
   "source": [
    "class SubClass(SuperClass):\n",
    "    def __init__(self, arg1, arg2):\n",
    "        super().__init__(arg1)\n",
    "        self.arg2 = arg2"
   ]
  },
  {
   "cell_type": "code",
   "execution_count": 34,
   "id": "1d14e93d-fc3c-4d53-b79e-fd152d5a372d",
   "metadata": {},
   "outputs": [],
   "source": [
    "#badshah"
   ]
  },
  {
   "cell_type": "markdown",
   "id": "7788d808-9f06-4eac-a70b-bf80a16086f2",
   "metadata": {},
   "source": [
    "#### Static Method"
   ]
  },
  {
   "cell_type": "code",
   "execution_count": 40,
   "id": "9849519d-5517-420f-9d6d-743fe7909183",
   "metadata": {},
   "outputs": [],
   "source": [
    "class pwskills:\n",
    "    def student_details(self,name,mail_id,number):\n",
    "        print(name,mail_id,number)\n",
    "# i had doubt here why isnt __init__ used here since we are taking\n",
    "# data, but in this data is taken by function and used by function only\n",
    "# but in init data is used in other function also"
   ]
  },
  {
   "cell_type": "code",
   "execution_count": 41,
   "id": "875685bb-ab77-4791-ab76-06284550b84a",
   "metadata": {},
   "outputs": [],
   "source": [
    "pw=pwskills()"
   ]
  },
  {
   "cell_type": "code",
   "execution_count": 42,
   "id": "ee547a10-92a4-4d91-8b06-cf67e8d16d77",
   "metadata": {},
   "outputs": [
    {
     "name": "stdout",
     "output_type": "stream",
     "text": [
      "dec 123123 1232321\n"
     ]
    }
   ],
   "source": [
    "pw.student_details(\"dec\",123123,1232321)"
   ]
  },
  {
   "cell_type": "code",
   "execution_count": 43,
   "id": "38e7b8a6-657f-4e76-b60d-ebd6c917e8cd",
   "metadata": {},
   "outputs": [],
   "source": [
    "class pwskills:\n",
    "    def student_details(self,name,mail_id,number):\n",
    "        print(name,mail_id,number)\n",
    "        \n",
    "    @staticmethod\n",
    "    def mentor_class(list_mentor):\n",
    "        print(list_mentor)"
   ]
  },
  {
   "cell_type": "code",
   "execution_count": 44,
   "id": "b26abca0-920e-4286-9fad-bcf5dc4b667b",
   "metadata": {},
   "outputs": [
    {
     "name": "stdout",
     "output_type": "stream",
     "text": [
      "['dev', 'haral']\n"
     ]
    }
   ],
   "source": [
    "pwskills.mentor_class([\"dev\",'haral'])"
   ]
  },
  {
   "cell_type": "code",
   "execution_count": 1,
   "id": "2f84ff26-138c-4376-9eba-5c5df23663c5",
   "metadata": {},
   "outputs": [
    {
     "data": {
      "text/plain": [
       "['__abs__',\n",
       " '__add__',\n",
       " '__and__',\n",
       " '__bool__',\n",
       " '__ceil__',\n",
       " '__class__',\n",
       " '__delattr__',\n",
       " '__dir__',\n",
       " '__divmod__',\n",
       " '__doc__',\n",
       " '__eq__',\n",
       " '__float__',\n",
       " '__floor__',\n",
       " '__floordiv__',\n",
       " '__format__',\n",
       " '__ge__',\n",
       " '__getattribute__',\n",
       " '__getnewargs__',\n",
       " '__gt__',\n",
       " '__hash__',\n",
       " '__index__',\n",
       " '__init__',\n",
       " '__init_subclass__',\n",
       " '__int__',\n",
       " '__invert__',\n",
       " '__le__',\n",
       " '__lshift__',\n",
       " '__lt__',\n",
       " '__mod__',\n",
       " '__mul__',\n",
       " '__ne__',\n",
       " '__neg__',\n",
       " '__new__',\n",
       " '__or__',\n",
       " '__pos__',\n",
       " '__pow__',\n",
       " '__radd__',\n",
       " '__rand__',\n",
       " '__rdivmod__',\n",
       " '__reduce__',\n",
       " '__reduce_ex__',\n",
       " '__repr__',\n",
       " '__rfloordiv__',\n",
       " '__rlshift__',\n",
       " '__rmod__',\n",
       " '__rmul__',\n",
       " '__ror__',\n",
       " '__round__',\n",
       " '__rpow__',\n",
       " '__rrshift__',\n",
       " '__rshift__',\n",
       " '__rsub__',\n",
       " '__rtruediv__',\n",
       " '__rxor__',\n",
       " '__setattr__',\n",
       " '__sizeof__',\n",
       " '__str__',\n",
       " '__sub__',\n",
       " '__subclasshook__',\n",
       " '__truediv__',\n",
       " '__trunc__',\n",
       " '__xor__',\n",
       " 'as_integer_ratio',\n",
       " 'bit_count',\n",
       " 'bit_length',\n",
       " 'conjugate',\n",
       " 'denominator',\n",
       " 'from_bytes',\n",
       " 'imag',\n",
       " 'numerator',\n",
       " 'real',\n",
       " 'to_bytes']"
      ]
     },
     "execution_count": 1,
     "metadata": {},
     "output_type": "execute_result"
    }
   ],
   "source": [
    "#dunder method\n",
    "dir(int)"
   ]
  },
  {
   "cell_type": "code",
   "execution_count": 2,
   "id": "742c918a-7410-42c2-a9e0-b13b295cb367",
   "metadata": {},
   "outputs": [],
   "source": [
    "a=10"
   ]
  },
  {
   "cell_type": "code",
   "execution_count": 3,
   "id": "34a6ea9e-fc45-47b1-932a-86027190e857",
   "metadata": {},
   "outputs": [
    {
     "data": {
      "text/plain": [
       "26"
      ]
     },
     "execution_count": 3,
     "metadata": {},
     "output_type": "execute_result"
    }
   ],
   "source": [
    "a+16"
   ]
  },
  {
   "cell_type": "code",
   "execution_count": 4,
   "id": "26b3e62c-10e8-41cd-8f26-bee95336c0db",
   "metadata": {},
   "outputs": [
    {
     "data": {
      "text/plain": [
       "16"
      ]
     },
     "execution_count": 4,
     "metadata": {},
     "output_type": "execute_result"
    }
   ],
   "source": [
    "a.__add__(6)"
   ]
  },
  {
   "cell_type": "code",
   "execution_count": 7,
   "id": "18e30658-3735-46fc-b38f-313d0817ba72",
   "metadata": {},
   "outputs": [],
   "source": [
    "class pwskills:\n",
    "    \n",
    "    def __new__(cls):\n",
    "        print(\"this is my new\")\n",
    "    def __init__(self):\n",
    "        print(\"this is init\")"
   ]
  },
  {
   "cell_type": "code",
   "execution_count": 8,
   "id": "224ced0e-5779-4a3a-af9f-af2b2a6bde92",
   "metadata": {},
   "outputs": [
    {
     "name": "stdout",
     "output_type": "stream",
     "text": [
      "this is my new\n"
     ]
    }
   ],
   "source": [
    "pw=pwskills()"
   ]
  },
  {
   "cell_type": "code",
   "execution_count": 9,
   "id": "c670d4d2-477d-4aaa-91b2-c1177d88df74",
   "metadata": {},
   "outputs": [],
   "source": [
    "class pwskills1:\n",
    "    def __init__(self):\n",
    "        self.mobile_number=68736997\n",
    "    "
   ]
  },
  {
   "cell_type": "code",
   "execution_count": 10,
   "id": "eb853d40-5c00-4e54-8fea-936db17c8a37",
   "metadata": {},
   "outputs": [],
   "source": [
    "pw1=pwskills1()"
   ]
  },
  {
   "cell_type": "code",
   "execution_count": 11,
   "id": "58f9ec8e-d83f-4a02-9c26-c40254f30813",
   "metadata": {},
   "outputs": [
    {
     "name": "stdout",
     "output_type": "stream",
     "text": [
      "<__main__.pwskills1 object at 0x7f4583c7b760>\n"
     ]
    }
   ],
   "source": [
    "print(pw1)"
   ]
  },
  {
   "cell_type": "code",
   "execution_count": 12,
   "id": "e6f9e973-cc2f-4df2-b5c0-b95c4252d5d0",
   "metadata": {},
   "outputs": [],
   "source": [
    "# Property Decorator"
   ]
  },
  {
   "cell_type": "code",
   "execution_count": 13,
   "id": "f755d8af-de7a-473c-98e0-185f317d050d",
   "metadata": {},
   "outputs": [],
   "source": [
    "class pwskills:\n",
    "    def __init__(self,course_price,course_name):\n",
    "        self.__course_price=course_price\n",
    "        self.course_name=course_name\n",
    "        \n",
    "    @property\n",
    "    def course_price_access"
   ]
  },
  {
   "cell_type": "markdown",
   "id": "ff57e107-3f82-48d5-bccf-a21b2cb6ce2c",
   "metadata": {},
   "source": [
    "### Exception Handling"
   ]
  },
  {
   "cell_type": "code",
   "execution_count": 1,
   "id": "f23e4d88-a5eb-4a08-9cf6-af08d12edde1",
   "metadata": {},
   "outputs": [],
   "source": [
    "a=10"
   ]
  },
  {
   "cell_type": "code",
   "execution_count": 3,
   "id": "c66280ed-e216-4d41-b72f-040d5642d2b6",
   "metadata": {},
   "outputs": [
    {
     "ename": "ZeroDivisionError",
     "evalue": "division by zero",
     "output_type": "error",
     "traceback": [
      "\u001b[0;31m---------------------------------------------------------------------------\u001b[0m",
      "\u001b[0;31mZeroDivisionError\u001b[0m                         Traceback (most recent call last)",
      "Cell \u001b[0;32mIn[3], line 1\u001b[0m\n\u001b[0;32m----> 1\u001b[0m \u001b[43ma\u001b[49m\u001b[38;5;241;43m/\u001b[39;49m\u001b[38;5;241;43m0\u001b[39;49m\n",
      "\u001b[0;31mZeroDivisionError\u001b[0m: division by zero"
     ]
    }
   ],
   "source": [
    "a/0"
   ]
  },
  {
   "cell_type": "code",
   "execution_count": 5,
   "id": "235c2358-d085-4050-aa3d-e881b8f6e96b",
   "metadata": {},
   "outputs": [
    {
     "ename": "FileNotFoundError",
     "evalue": "[Errno 2] No such file or directory: 'open.txt'",
     "output_type": "error",
     "traceback": [
      "\u001b[0;31m---------------------------------------------------------------------------\u001b[0m",
      "\u001b[0;31mFileNotFoundError\u001b[0m                         Traceback (most recent call last)",
      "Cell \u001b[0;32mIn[5], line 1\u001b[0m\n\u001b[0;32m----> 1\u001b[0m f\u001b[38;5;241m=\u001b[39m\u001b[38;5;28;43mopen\u001b[39;49m\u001b[43m(\u001b[49m\u001b[38;5;124;43m\"\u001b[39;49m\u001b[38;5;124;43mopen.txt\u001b[39;49m\u001b[38;5;124;43m\"\u001b[39;49m\u001b[43m,\u001b[49m\u001b[38;5;124;43m\"\u001b[39;49m\u001b[38;5;124;43mr\u001b[39;49m\u001b[38;5;124;43m\"\u001b[39;49m\u001b[43m)\u001b[49m\n\u001b[1;32m      2\u001b[0m \u001b[38;5;28mprint\u001b[39m(\u001b[38;5;124m\"\u001b[39m\u001b[38;5;124mprint this\u001b[39m\u001b[38;5;124m\"\u001b[39m)\n",
      "File \u001b[0;32m/opt/conda/lib/python3.10/site-packages/IPython/core/interactiveshell.py:282\u001b[0m, in \u001b[0;36m_modified_open\u001b[0;34m(file, *args, **kwargs)\u001b[0m\n\u001b[1;32m    275\u001b[0m \u001b[38;5;28;01mif\u001b[39;00m file \u001b[38;5;129;01min\u001b[39;00m {\u001b[38;5;241m0\u001b[39m, \u001b[38;5;241m1\u001b[39m, \u001b[38;5;241m2\u001b[39m}:\n\u001b[1;32m    276\u001b[0m     \u001b[38;5;28;01mraise\u001b[39;00m \u001b[38;5;167;01mValueError\u001b[39;00m(\n\u001b[1;32m    277\u001b[0m         \u001b[38;5;124mf\u001b[39m\u001b[38;5;124m\"\u001b[39m\u001b[38;5;124mIPython won\u001b[39m\u001b[38;5;124m'\u001b[39m\u001b[38;5;124mt let you open fd=\u001b[39m\u001b[38;5;132;01m{\u001b[39;00mfile\u001b[38;5;132;01m}\u001b[39;00m\u001b[38;5;124m by default \u001b[39m\u001b[38;5;124m\"\u001b[39m\n\u001b[1;32m    278\u001b[0m         \u001b[38;5;124m\"\u001b[39m\u001b[38;5;124mas it is likely to crash IPython. If you know what you are doing, \u001b[39m\u001b[38;5;124m\"\u001b[39m\n\u001b[1;32m    279\u001b[0m         \u001b[38;5;124m\"\u001b[39m\u001b[38;5;124myou can use builtins\u001b[39m\u001b[38;5;124m'\u001b[39m\u001b[38;5;124m open.\u001b[39m\u001b[38;5;124m\"\u001b[39m\n\u001b[1;32m    280\u001b[0m     )\n\u001b[0;32m--> 282\u001b[0m \u001b[38;5;28;01mreturn\u001b[39;00m \u001b[43mio_open\u001b[49m\u001b[43m(\u001b[49m\u001b[43mfile\u001b[49m\u001b[43m,\u001b[49m\u001b[43m \u001b[49m\u001b[38;5;241;43m*\u001b[39;49m\u001b[43margs\u001b[49m\u001b[43m,\u001b[49m\u001b[43m \u001b[49m\u001b[38;5;241;43m*\u001b[39;49m\u001b[38;5;241;43m*\u001b[39;49m\u001b[43mkwargs\u001b[49m\u001b[43m)\u001b[49m\n",
      "\u001b[0;31mFileNotFoundError\u001b[0m: [Errno 2] No such file or directory: 'open.txt'"
     ]
    }
   ],
   "source": [
    "f=open(\"open.txt\",\"r\")\n",
    "print(\"print this\")"
   ]
  },
  {
   "cell_type": "code",
   "execution_count": 6,
   "id": "1bb797c5-9b58-4c15-93a8-5648e877fe00",
   "metadata": {},
   "outputs": [],
   "source": [
    "#maybe in my code i dont which line may not work or be error and thus my further code doesnt run\n",
    "#do in every code\n",
    "#its an convention to write\n"
   ]
  },
  {
   "cell_type": "code",
   "execution_count": 9,
   "id": "284de6bd-c74f-4efc-970a-6da6c5109961",
   "metadata": {},
   "outputs": [
    {
     "name": "stdout",
     "output_type": "stream",
     "text": [
      "there is some issue please look into it\n",
      "dev\n"
     ]
    }
   ],
   "source": [
    "try:\n",
    "    #suspisious code\n",
    "    f=open(\"open.txt\",\"r\")\n",
    "    \n",
    "except Exception as e:\n",
    "    #handle error\n",
    "    print(\"there is some issue please look into it\")\n",
    "#so it is handling error and running next line of code\n",
    "print(\"dev\")"
   ]
  },
  {
   "cell_type": "code",
   "execution_count": 14,
   "id": "919becd6-a372-4c64-95c5-519a6cf7eed9",
   "metadata": {},
   "outputs": [
    {
     "name": "stdout",
     "output_type": "stream",
     "text": [
      "there is some issue please look into it\n"
     ]
    }
   ],
   "source": [
    "try:\n",
    "    #suspisious code\n",
    "    f=open(\"open1.txt\",\"r\")\n",
    "    f.write(\"this is my msg\")\n",
    "    \n",
    "    \n",
    "except Exception as e:\n",
    "    #handle error\n",
    "    print(\"there is some issue please look into it\")\n",
    "    \n",
    "else : \n",
    "    f.close()\n",
    "    print(\"this block excute once try will excute without exception\")"
   ]
  },
  {
   "cell_type": "code",
   "execution_count": 16,
   "id": "ccc7b157-fbb2-4cf4-98d0-92798136e69e",
   "metadata": {},
   "outputs": [
    {
     "name": "stdout",
     "output_type": "stream",
     "text": [
      "there is some issue please look into it\n",
      "this will always execute\n"
     ]
    }
   ],
   "source": [
    "try:\n",
    "    #suspisious code\n",
    "    f=open(\"open1.txt\",\"r\")\n",
    "    f.write(\"this is my msg\")\n",
    "except Exception as e:\n",
    "    #handle error\n",
    "    print(\"there is some issue please look into it\")\n",
    "finally:\n",
    "    print(\"this will always execute\")"
   ]
  },
  {
   "cell_type": "code",
   "execution_count": 17,
   "id": "8b104dbc-8230-4a16-934e-47eb02b63f16",
   "metadata": {},
   "outputs": [],
   "source": [
    "## Custom Exception Handling"
   ]
  },
  {
   "cell_type": "code",
   "execution_count": 18,
   "id": "22b5354a-cb47-4ba4-8a99-e6281c91e077",
   "metadata": {},
   "outputs": [
    {
     "name": "stdout",
     "output_type": "stream",
     "text": [
      "enter your name -235\n"
     ]
    }
   ],
   "source": [
    "age=int(input(\"enter your name\"))"
   ]
  },
  {
   "cell_type": "code",
   "execution_count": 19,
   "id": "ed3293ea-742d-46b5-aa7b-0428af068a7b",
   "metadata": {},
   "outputs": [],
   "source": [
    "#this is not valid age \n",
    "#handling our own custom exception"
   ]
  },
  {
   "cell_type": "code",
   "execution_count": 20,
   "id": "33a485ef-8e83-4bcd-bf7d-6c6cb8711398",
   "metadata": {},
   "outputs": [],
   "source": [
    "class validate(Exception):   # Inheritance of exception class\n",
    "    def __init__(self,msg):\n",
    "        self.msg=msg"
   ]
  },
  {
   "cell_type": "code",
   "execution_count": 21,
   "id": "1776a4fc-80c6-4fb2-a3b1-be5eebd22af9",
   "metadata": {},
   "outputs": [],
   "source": [
    "def validate_age(age):\n",
    "    if age<0:\n",
    "        raise validate(\"age should not be lesser than zero\")\n",
    "    elif age>200:\n",
    "        raise validate(\"age is too high\")\n",
    "    else:\n",
    "        print(\"age is valid\")"
   ]
  },
  {
   "cell_type": "code",
   "execution_count": 24,
   "id": "4cb97fff-d4b7-44b4-a249-2b69db770cea",
   "metadata": {},
   "outputs": [
    {
     "name": "stdout",
     "output_type": "stream",
     "text": [
      "enter age -99\n"
     ]
    },
    {
     "name": "stdout",
     "output_type": "stream",
     "text": [
      "age should not be lesser than zero\n"
     ]
    }
   ],
   "source": [
    "try:\n",
    "    age=int(input(\"enter age\"))\n",
    "    validate_age(age)\n",
    "    \n",
    "except validate as e:\n",
    "    print(e)"
   ]
  },
  {
   "cell_type": "code",
   "execution_count": 25,
   "id": "ab3fcc75-17ad-4007-8106-4e2c3432fbb8",
   "metadata": {},
   "outputs": [],
   "source": [
    "## List of General Use exception"
   ]
  },
  {
   "cell_type": "code",
   "execution_count": 28,
   "id": "81d46491-f478-4c0b-b507-6fec6e86c24c",
   "metadata": {},
   "outputs": [
    {
     "name": "stdout",
     "output_type": "stream",
     "text": [
      "division by zero\n"
     ]
    }
   ],
   "source": [
    "try:\n",
    "    a=10\n",
    "    10/0\n",
    "except ZeroDivisionError as e:\n",
    "    print(e)\n",
    "    "
   ]
  },
  {
   "cell_type": "code",
   "execution_count": 29,
   "id": "c49516d2-dc31-4a51-96ac-3ddb8ba9a017",
   "metadata": {},
   "outputs": [
    {
     "name": "stdout",
     "output_type": "stream",
     "text": [
      "this will catch error\n"
     ]
    }
   ],
   "source": [
    "try :\n",
    "    int(\"sub\")\n",
    "except :\n",
    "    print(\"this will catch error\")"
   ]
  },
  {
   "cell_type": "code",
   "execution_count": 30,
   "id": "ed4cc875-609f-41fc-8cf1-43ceab41a795",
   "metadata": {},
   "outputs": [
    {
     "name": "stdout",
     "output_type": "stream",
     "text": [
      "No module named 'dev'\n"
     ]
    }
   ],
   "source": [
    "try: \n",
    "    import dev\n",
    "    \n",
    "except ImportError as e:\n",
    "    print(e)"
   ]
  },
  {
   "cell_type": "code",
   "execution_count": 32,
   "id": "262d8ac7-e82e-4c9f-afe8-b5425fb7d470",
   "metadata": {},
   "outputs": [
    {
     "name": "stdout",
     "output_type": "stream",
     "text": [
      "'key10'\n"
     ]
    }
   ],
   "source": [
    "try:\n",
    "    d={1:[1,2,3,4],\"key\":\"dev\"}\n",
    "    d[\"key10\"]\n",
    "    \n",
    "except KeyError as e:\n",
    "    print(e)"
   ]
  },
  {
   "cell_type": "code",
   "execution_count": 33,
   "id": "6fea949f-7df8-4504-aa5c-89d45f6426ef",
   "metadata": {},
   "outputs": [
    {
     "name": "stdout",
     "output_type": "stream",
     "text": [
      "list index out of range\n"
     ]
    }
   ],
   "source": [
    "try :\n",
    "    l=[1,2,3,4]\n",
    "    l[10]\n",
    "except IndexError as e:\n",
    "    print(e)"
   ]
  },
  {
   "cell_type": "code",
   "execution_count": 35,
   "id": "19fc4fbc-d5fd-4a5e-9caf-23f802299aaf",
   "metadata": {},
   "outputs": [
    {
     "name": "stdout",
     "output_type": "stream",
     "text": [
      "unsupported operand type(s) for +: 'int' and 'str'\n"
     ]
    }
   ],
   "source": [
    "try :\n",
    "    123+\"dev\"\n",
    "except TypeError as e:\n",
    "    print(e)"
   ]
  },
  {
   "cell_type": "code",
   "execution_count": 36,
   "id": "ab86d18b-ec3d-4752-9861-33688ec205d7",
   "metadata": {},
   "outputs": [
    {
     "name": "stdout",
     "output_type": "stream",
     "text": [
      "[Errno 2] No such file or directory: 'test.txt'\n"
     ]
    }
   ],
   "source": [
    "try:\n",
    "    with open(\"test.txt\",\"r\") as f:\n",
    "        f.read()\n",
    "except FileNotFoundError as e:\n",
    "    print(e)"
   ]
  },
  {
   "cell_type": "code",
   "execution_count": 37,
   "id": "a06f812f-eb69-4b0b-bb8c-a5887a3e21ab",
   "metadata": {},
   "outputs": [
    {
     "name": "stdout",
     "output_type": "stream",
     "text": [
      "test [Errno 2] No such file or directory: 'test.txt'\n"
     ]
    }
   ],
   "source": [
    "try:\n",
    "    with open(\"test.txt\",\"r\") as f:\n",
    "        f.read()\n",
    "except Exception as e:\n",
    "    print(\"test\",e)\n",
    "except FileNotFoundError as e:\n",
    "    print(\"this file not found tye error\")"
   ]
  },
  {
   "cell_type": "code",
   "execution_count": 39,
   "id": "8a211830-5ead-4ebc-aaeb-9cf7105ca39a",
   "metadata": {},
   "outputs": [],
   "source": [
    "def test(file):\n",
    "    try:\n",
    "        with open(\"test.txt\",\"r\") as f:\n",
    "            f.read()\n",
    "    except Exception as e:\n",
    "        print(\"test\",e)\n",
    "    except FileNotFoundError as e:\n",
    "        print(\"this file not found tye error\")"
   ]
  },
  {
   "cell_type": "code",
   "execution_count": 40,
   "id": "e64d1643-a7ba-4630-87a8-d4a63bd8fe0a",
   "metadata": {},
   "outputs": [],
   "source": [
    "#Best Practise thing to keep in mind\n"
   ]
  },
  {
   "cell_type": "code",
   "execution_count": 41,
   "id": "c1df596c-0928-44ec-a49b-7ebf68a50b28",
   "metadata": {},
   "outputs": [
    {
     "name": "stdout",
     "output_type": "stream",
     "text": [
      "division by zero\n"
     ]
    }
   ],
   "source": [
    "#use always a specific exception\n",
    "try:\n",
    "    10/0\n",
    "except Exception as e:\n",
    "    print(e)"
   ]
  },
  {
   "cell_type": "code",
   "execution_count": 42,
   "id": "fa5c0409-fab1-47e4-b520-c0ba2297b4e8",
   "metadata": {},
   "outputs": [
    {
     "name": "stdout",
     "output_type": "stream",
     "text": [
      "division by zero\n"
     ]
    }
   ],
   "source": [
    "try:\n",
    "    10/0\n",
    "except ZeroDivisionError as e:\n",
    "    print(e)"
   ]
  },
  {
   "cell_type": "code",
   "execution_count": 45,
   "id": "863da9f2-2f3a-4693-9087-69add364e654",
   "metadata": {},
   "outputs": [],
   "source": [
    "#print always a proper message\n",
    "#always try log\n",
    "import logging\n",
    "logging.basicConfig(filename=\"error.log\",level=logging.ERROR)\n",
    "try :\n",
    "    10/0\n",
    "except ZeroDivisionError as e:\n",
    "   logging.error(\"this error is : {}\".format(e))"
   ]
  },
  {
   "cell_type": "code",
   "execution_count": 46,
   "id": "54905828-2954-411b-8708-231abc66342a",
   "metadata": {},
   "outputs": [],
   "source": [
    "#always avoid multiple exception handling"
   ]
  },
  {
   "cell_type": "code",
   "execution_count": 47,
   "id": "ce92e82d-6f7e-4041-9962-40328b6196a4",
   "metadata": {},
   "outputs": [],
   "source": [
    "#always prepare proper documentation"
   ]
  },
  {
   "cell_type": "code",
   "execution_count": 48,
   "id": "b3e6a55f-6588-40a5-babe-7a378a325261",
   "metadata": {},
   "outputs": [],
   "source": [
    "#clear all th resources\n",
    "try:\n",
    "    with open(\"test.txt\",\"w\") as f:\n",
    "        f.write(\"this is my msg\")\n",
    "except FileNotFoundError as e:\n",
    "    logging.error(\"this is my file not found {}\".format(e))\n",
    "    \n",
    "finally:\n",
    "    f.close()"
   ]
  },
  {
   "cell_type": "markdown",
   "id": "f0d78999-5c7f-450a-a5db-b6acd75bd543",
   "metadata": {},
   "source": [
    "## Multithreading"
   ]
  },
  {
   "cell_type": "code",
   "execution_count": 49,
   "id": "ab69848c-6c4e-493e-b59d-c745bac03af6",
   "metadata": {},
   "outputs": [],
   "source": [
    "import threading"
   ]
  },
  {
   "cell_type": "code",
   "execution_count": 50,
   "id": "f40917ce-5979-4d9f-aacf-4bf3c407b918",
   "metadata": {},
   "outputs": [],
   "source": [
    "def test(id):\n",
    "    print(\"this is my test id %d \" % id)"
   ]
  },
  {
   "cell_type": "code",
   "execution_count": 51,
   "id": "52624f60-25d9-4eab-8d5a-6ded2a990ee3",
   "metadata": {},
   "outputs": [
    {
     "name": "stdout",
     "output_type": "stream",
     "text": [
      "this is my test id 10 \n"
     ]
    }
   ],
   "source": [
    "test(10)"
   ]
  },
  {
   "cell_type": "code",
   "execution_count": 52,
   "id": "be9c01b4-35ff-4c30-8a9a-87d9b0011d0b",
   "metadata": {},
   "outputs": [
    {
     "name": "stdout",
     "output_type": "stream",
     "text": [
      "this is my test id 1 \n"
     ]
    }
   ],
   "source": [
    "test(1)"
   ]
  },
  {
   "cell_type": "code",
   "execution_count": 53,
   "id": "9d0228f0-42a4-4edf-81e5-018d6481b83b",
   "metadata": {},
   "outputs": [
    {
     "name": "stdout",
     "output_type": "stream",
     "text": [
      "this is my test id 3 \n"
     ]
    }
   ],
   "source": [
    "test(3)"
   ]
  },
  {
   "cell_type": "code",
   "execution_count": 54,
   "id": "2d544dff-a916-4a98-9d6d-ff86deccf070",
   "metadata": {},
   "outputs": [],
   "source": [
    "#how to call them simultaneouly\n",
    "thred=[threading.Thread(target=test,args=(i,)) for i in [10,1,3]]"
   ]
  },
  {
   "cell_type": "code",
   "execution_count": 55,
   "id": "4242c146-94f7-462f-85ab-bc39b441d540",
   "metadata": {},
   "outputs": [
    {
     "data": {
      "text/plain": [
       "[<Thread(Thread-5 (test), initial)>,\n",
       " <Thread(Thread-6 (test), initial)>,\n",
       " <Thread(Thread-7 (test), initial)>]"
      ]
     },
     "execution_count": 55,
     "metadata": {},
     "output_type": "execute_result"
    }
   ],
   "source": [
    "thred"
   ]
  },
  {
   "cell_type": "code",
   "execution_count": 56,
   "id": "f7d76f91-e704-4ab5-a139-df28211ec32b",
   "metadata": {},
   "outputs": [
    {
     "name": "stdout",
     "output_type": "stream",
     "text": [
      "this is my test id 10 \n",
      "this is my test id 1 \n",
      "this is my test id 3 \n"
     ]
    }
   ],
   "source": [
    "for t in thred:\n",
    "    t.start()"
   ]
  },
  {
   "cell_type": "code",
   "execution_count": 57,
   "id": "cce0bbf9-de1b-4455-968d-8fe9a0857046",
   "metadata": {},
   "outputs": [],
   "source": [
    "import urllib.request\n",
    "\n",
    "def filedownload(url,filename):\n",
    "    urllib.request.urlretrieve(url,filename)"
   ]
  },
  {
   "cell_type": "code",
   "execution_count": null,
   "id": "743a9d92-5cd9-455f-bd95-6e2fbdf5f7db",
   "metadata": {},
   "outputs": [],
   "source": [
    "file_download(\"\",\"test.txt\")"
   ]
  },
  {
   "cell_type": "code",
   "execution_count": 1,
   "id": "68b14bc9",
   "metadata": {},
   "outputs": [
    {
     "name": "stdout",
     "output_type": "stream",
     "text": [
      "laraH veD\n"
     ]
    }
   ],
   "source": [
    "str1=\"Dev Haral\"\n",
    "str2=\"\"\n",
    "for i in str1:\n",
    "    str2=i+str2\n",
    "\n",
    "print(str2)"
   ]
  },
  {
   "cell_type": "code",
   "execution_count": 2,
   "id": "3229135e",
   "metadata": {},
   "outputs": [
    {
     "name": "stdout",
     "output_type": "stream",
     "text": [
      "['We', 'a ', 'writing', 'blog']\n"
     ]
    }
   ],
   "source": [
    "lst1 = ['W', 'a', 'w', 'b']\n",
    "lst2 = ['e', ' ', 'riting', 'log']\n",
    "lst3=[x+y for x,y in zip(lst1,lst2)]\n",
    "print(lst3)"
   ]
  },
  {
   "cell_type": "code",
   "execution_count": 6,
   "id": "d05e2df2",
   "metadata": {},
   "outputs": [],
   "source": [
    "class devharal:\n",
    "    def __init__(self,emp_name):\n",
    "        self.emp_name=emp_name"
   ]
  },
  {
   "cell_type": "code",
   "execution_count": 7,
   "id": "48fd1cf7",
   "metadata": {},
   "outputs": [],
   "source": [
    "dev1=devharal(\"Dev\")"
   ]
  },
  {
   "cell_type": "code",
   "execution_count": 8,
   "id": "3f060de0",
   "metadata": {},
   "outputs": [],
   "source": [
    "dev1=devharal(\"Dev\")"
   ]
  },
  {
   "cell_type": "code",
   "execution_count": 10,
   "id": "fe979556",
   "metadata": {},
   "outputs": [
    {
     "name": "stdout",
     "output_type": "stream",
     "text": [
      "Dev\n"
     ]
    }
   ],
   "source": [
    "print(dev1.emp_name)"
   ]
  },
  {
   "cell_type": "code",
   "execution_count": 11,
   "id": "44d07ce9",
   "metadata": {},
   "outputs": [
    {
     "name": "stdout",
     "output_type": "stream",
     "text": [
      "Mr Employee\n",
      "Hello I am Mr Employee\n"
     ]
    }
   ],
   "source": [
    "class InterviewbitEmployee:\n",
    "   def __init__(self, emp_name):\n",
    "       self.emp_name = emp_name\n",
    "       \n",
    "   def introduce(self):\n",
    "       print(\"Hello I am \" + self.emp_name)\n",
    "       \n",
    "# create an object of InterviewbitEmployee class\n",
    "emp_1 = InterviewbitEmployee(\"Mr Employee\")\n",
    "print(emp_1.emp_name)    #print employee name\n",
    "emp_1.introduce()  "
   ]
  },
  {
   "cell_type": "code",
   "execution_count": null,
   "id": "d2e3be5f",
   "metadata": {},
   "outputs": [],
   "source": []
  },
  {
   "cell_type": "code",
   "execution_count": null,
   "id": "98d3a57e",
   "metadata": {},
   "outputs": [],
   "source": []
  }
 ],
 "metadata": {
  "kernelspec": {
   "display_name": "Python 3 (ipykernel)",
   "language": "python",
   "name": "python3"
  },
  "language_info": {
   "codemirror_mode": {
    "name": "ipython",
    "version": 3
   },
   "file_extension": ".py",
   "mimetype": "text/x-python",
   "name": "python",
   "nbconvert_exporter": "python",
   "pygments_lexer": "ipython3",
   "version": "3.10.9"
  }
 },
 "nbformat": 4,
 "nbformat_minor": 5
}
